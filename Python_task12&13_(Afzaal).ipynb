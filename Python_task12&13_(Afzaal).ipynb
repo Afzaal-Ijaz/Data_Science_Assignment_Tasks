{
 "cells": [
  {
   "cell_type": "markdown",
   "id": "71531671-cc98-4f75-b91f-2ba950136f90",
   "metadata": {},
   "source": [
    "## Python Task 12"
   ]
  },
  {
   "cell_type": "code",
   "execution_count": 5,
   "id": "cd19f3ec-abbd-4291-b24d-ad397e029853",
   "metadata": {},
   "outputs": [
    {
     "name": "stdout",
     "output_type": "stream",
     "text": [
      "Afzaal 20\n",
      "Ali 22\n"
     ]
    }
   ],
   "source": [
    "#1. Create a class named 'Student' with attributes name and age. Instantiate two objects and print their details.\n",
    "class Student:\n",
    "    \n",
    "    def __init__(self,name,age):\n",
    "       self.name = name\n",
    "       self.age = age\n",
    "\n",
    "stu1 = Student('Afzaal',20)\n",
    "stu2 = Student('Ali',22)\n",
    "\n",
    "print(stu1.name, stu1.age)\n",
    "print(stu2.name, stu2.age)"
   ]
  },
  {
   "cell_type": "code",
   "execution_count": 7,
   "id": "48e1b218-d8aa-4362-bc30-9f23519f3fc7",
   "metadata": {},
   "outputs": [
    {
     "name": "stdout",
     "output_type": "stream",
     "text": [
      " Ali has a car of Kia brand, Sportage model and 2024 year\n",
      " Ali has a car of Audi brand, A6 model and 2018 year\n"
     ]
    }
   ],
   "source": [
    "#2. Define a class 'Car' with an __init__ method that initializes brand, model, and year.\n",
    "class Car:\n",
    "    def __init__(self,brand,model,year):\n",
    "        self.brand = brand\n",
    "        self.model = model\n",
    "        self.year = year\n",
    "        \n",
    "    def detail(self):\n",
    "        print(f\" Ali has a car of {self.brand} brand, {self.model} model and {self.year} year\")\n",
    "\n",
    "car1 = Car('Kia','Sportage',2024)\n",
    "car2 = Car('Audi','A6', 2018)\n",
    "\n",
    "car1.detail()\n",
    "car2.detail()"
   ]
  },
  {
   "cell_type": "code",
   "execution_count": 11,
   "id": "dc7c24c0-38d6-40d9-bc3a-d24e0e332f58",
   "metadata": {},
   "outputs": [
    {
     "name": "stdout",
     "output_type": "stream",
     "text": [
      " The area is 78.5 and circimference is 31.400000000000002\n"
     ]
    }
   ],
   "source": [
    "#3. Write a class 'Circle' that takes radius as a parameter and calculates area and circumference.\n",
    "class Circle:\n",
    "    def __init__(self,r):\n",
    "        self.radius = r\n",
    "\n",
    "    def calculation(self):\n",
    "        area = 3.14 * (self.radius) * (self.radius)\n",
    "        circum = 2 * 3.14 * self.radius\n",
    "        print(f' The area is {area} and circimference is {circum}')\n",
    "\n",
    "circle1 = Circle(5)\n",
    "circle1.calculation()"
   ]
  },
  {
   "cell_type": "code",
   "execution_count": 21,
   "id": "ae74a2cb-0070-48df-91f1-2ff083994b7d",
   "metadata": {},
   "outputs": [
    {
     "name": "stdout",
     "output_type": "stream",
     "text": [
      " The id of employee is 101. \n",
      " Name is Afzaal and department is IT\n"
     ]
    }
   ],
   "source": [
    "#4. Create a class 'Employee' with a method to display employee details.\n",
    "class Employee:\n",
    "    def __init__(self,id_num,name,depart):\n",
    "       self.id_num = id_num\n",
    "       self.name = name\n",
    "       self.department = depart\n",
    "\n",
    "    def detail(self):\n",
    "        print(f' The id of employee is {self.id_num}. \\n Name is {self.name} and department is {self.department}')\n",
    "\n",
    "e1 = Employee(101,\"Afzaal\",\"IT\")\n",
    "e1.detail()\n",
    "    "
   ]
  },
  {
   "cell_type": "code",
   "execution_count": 27,
   "id": "0829c11d-94fe-4684-a066-df1689e44e64",
   "metadata": {},
   "outputs": [
    {
     "name": "stdout",
     "output_type": "stream",
     "text": [
      " The book title is The Bourne Identity, author name is Robert Ludlum and price is 4500\n"
     ]
    }
   ],
   "source": [
    "#5. Implement a class 'Book' to store book title, author and price. Add a method to show details.\n",
    "class Book:\n",
    "    def __init__(self,t,a,p):\n",
    "        self.title = t\n",
    "        self.author = a\n",
    "        self.price = p\n",
    "\n",
    "    def detail(self):\n",
    "        print(f' The book title is {self.title}, author name is {self.author} and price is {self.price}')\n",
    "\n",
    "b1 = Book(\"The Bourne Identity\", \"Robert Ludlum\", 4500)\n",
    "b1.detail()\n",
    "   "
   ]
  },
  {
   "cell_type": "code",
   "execution_count": 28,
   "id": "e780fde0-3a52-49e5-9fed-598641699b04",
   "metadata": {},
   "outputs": [
    {
     "name": "stdin",
     "output_type": "stream",
     "text": [
      "Enter first number:  5\n",
      "Enter second number:  15\n"
     ]
    },
    {
     "name": "stdout",
     "output_type": "stream",
     "text": [
      "Addition:  20\n",
      "Subtraction:  -10\n",
      "Multiplication:  75\n",
      "Division:  0.3333333333333333\n"
     ]
    }
   ],
   "source": [
    "#6. Design a class 'Calculator' with methods to add, subtract, multiply and divide two numbers.\n",
    "class Calculator:\n",
    "\n",
    "  def add(self, n1, n2):\n",
    "     return n1 + n2\n",
    "\n",
    "  def subtract(self, n1, n2):\n",
    "     return n1 - n2\n",
    "\n",
    "  def multiply(self, n1, n2):\n",
    "     return n1 * n2\n",
    "\n",
    "  def divide(self, n1, n2):\n",
    "     return n1 / n2\n",
    "\n",
    "\n",
    "n1 = int(input(\"Enter first number: \"))\n",
    "n2 = int(input(\"Enter second number: \"))\n",
    "\n",
    "c = Calculator()\n",
    "print(\"Addition: \",c.add(n1, n2))\n",
    "print(\"Subtraction: \",c.subtract(n1, n2))\n",
    "print(\"Multiplication: \",c.multiply(n1, n2))\n",
    "print(\"Division: \",c.divide(n1, n2))"
   ]
  },
  {
   "cell_type": "code",
   "execution_count": 35,
   "id": "f5a480ec-1bfa-4f2e-9579-2a05773808d8",
   "metadata": {},
   "outputs": [
    {
     "name": "stdin",
     "output_type": "stream",
     "text": [
      "Enter a PIN 1234\n",
      "Enter amount here: 5000\n"
     ]
    },
    {
     "name": "stdout",
     "output_type": "stream",
     "text": [
      "Deposit Successfully\n"
     ]
    },
    {
     "name": "stdin",
     "output_type": "stream",
     "text": [
      "Enter a PIN 1234\n",
      "Enter amount here: 10000\n"
     ]
    },
    {
     "name": "stdout",
     "output_type": "stream",
     "text": [
      "Withdraw Successfully\n",
      "Current Balance =45000\n"
     ]
    }
   ],
   "source": [
    "#7. Create a class 'BankAccount' with deposit and withdraw methods and display current balance.\n",
    "class BankAccount:\n",
    "    def __init__(self,p,b):\n",
    "        self.pin = p\n",
    "        self.current_balance = b\n",
    "\n",
    "    def deposit(self):\n",
    "        PIN = int(input(\"Enter a PIN\"))\n",
    "        if PIN == self.pin:\n",
    "            deposit_amount = int(input(\"Enter amount here:\"))\n",
    "            self.current_balance = self.current_balance + deposit_amount\n",
    "            print(\"Deposit Successfully\")\n",
    "        else:\n",
    "            print(\"Invalid PIN\")\n",
    "\n",
    "\n",
    "    def withdraw(self):\n",
    "        PIN = int(input(\"Enter a PIN\"))\n",
    "        if PIN == self.pin:\n",
    "            withdraw_amount = int(input(\"Enter amount here:\"))\n",
    "            self.current_balance = self.current_balance - withdraw_amount\n",
    "            print(\"Withdraw Successfully\")\n",
    "        else:\n",
    "            print(\"Invalid PIN\")\n",
    "\n",
    "\n",
    "    def display(self):\n",
    "        print(f'Current Balance ={self.current_balance}')\n",
    "        \n",
    "cus1 = BankAccount(1234, 50000)\n",
    "cus1.deposit()\n",
    "cus1.withdraw()\n",
    "cus1.display()"
   ]
  },
  {
   "cell_type": "code",
   "execution_count": 36,
   "id": "5fb19634-78ef-4872-bbd7-8f1f5264689e",
   "metadata": {},
   "outputs": [
    {
     "name": "stdout",
     "output_type": "stream",
     "text": [
      "Area of rectangle is: 50\n",
      "Perimeter of rectangle is: 30\n"
     ]
    }
   ],
   "source": [
    "#8. Define a class 'Rectangle' with width and height. Add a method to calculate area and perimeter.\n",
    "class Rectangle:\n",
    "    def __init__(self, l, w):\n",
    "        self.length = l\n",
    "        self.width = w\n",
    "\n",
    "    def area(self):\n",
    "        return self.length * self.width\n",
    "\n",
    "    def perimeter(self):\n",
    "      return 2 * (self.length + self.width)\n",
    "\n",
    "\n",
    "r = Rectangle(5, 10)\n",
    "print(\"Area of rectangle is:\", r.area())\n",
    "print(\"Perimeter of rectangle is:\", r.perimeter())\n"
   ]
  },
  {
   "cell_type": "code",
   "execution_count": 38,
   "id": "2a55c02e-da4d-4156-9375-170d09cf2b79",
   "metadata": {},
   "outputs": [
    {
     "name": "stdout",
     "output_type": "stream",
     "text": [
      "Hello! Afzaal\n",
      "Hello! Zain\n"
     ]
    }
   ],
   "source": [
    "#9. Write a class 'Person' with a greeting method and test it with different names.\n",
    "class Person:\n",
    "  def __init__(self, n):\n",
    "    self.name = n\n",
    "\n",
    "  def greet(self):\n",
    "    print(f\"Hello! {self.name}\")\n",
    "\n",
    "p1 = Person(\"Afzaal\")\n",
    "p2 = Person(\"Zain\")\n",
    "\n",
    "p1.greet()\n",
    "p2.greet()"
   ]
  },
  {
   "cell_type": "code",
   "execution_count": 40,
   "id": "3582923d-37b4-4461-95ba-1bbfa27607b2",
   "metadata": {},
   "outputs": [
    {
     "name": "stdout",
     "output_type": "stream",
     "text": [
      "Laptop: Dell ---> RAM: 8GB ---> Processor: Intel Core i6\n"
     ]
    }
   ],
   "source": [
    "#10. Make a class 'Laptop' with attributes brand, RAM, and processor. Display them using a method.\n",
    "class Laptop:\n",
    "    def __init__(self, brand, ram, processor):\n",
    "        self.brand = brand\n",
    "        self.ram = ram\n",
    "        self.processor = processor\n",
    "\n",
    "    def detail(self):\n",
    "        print(f\"Laptop: {self.brand} ---> RAM: {self.ram} ---> Processor: {self.processor}\")\n",
    "\n",
    "l1 = Laptop(\"Dell\", \"8GB\", \"Intel Core i6\")\n",
    "l1.detail()"
   ]
  },
  {
   "cell_type": "markdown",
   "id": "f8e90fc6-93b9-445d-a7f3-864498aea338",
   "metadata": {},
   "source": [
    "## Python Task 13 "
   ]
  },
  {
   "cell_type": "code",
   "execution_count": 43,
   "id": "896840c4-c684-4114-88a1-c4780fc7f1a5",
   "metadata": {},
   "outputs": [
    {
     "name": "stdout",
     "output_type": "stream",
     "text": [
      "Animals can walk\n",
      "Cat Meows\n",
      "Animals can walk\n",
      "Dog barks\n"
     ]
    }
   ],
   "source": [
    "#11. Create a base class 'Animal' and derived classes 'Dog' and 'Cat'. Demonstrate inheritance.\n",
    "class Animal:\n",
    "  def walk(self):\n",
    "     print(\"Animals can walk\")\n",
    "\n",
    "class Cat(Animal):\n",
    "  def sound(self):\n",
    "     print(\"Cat Meows\")\n",
    "\n",
    "class Dog(Animal):\n",
    "  def sound(self):\n",
    "     print(\"Dog barks\")\n",
    "\n",
    "kitty = Cat()\n",
    "bob = Dog()\n",
    "kitty.walk()\n",
    "kitty.sound()\n",
    "\n",
    "bob.walk()\n",
    "bob.sound()"
   ]
  },
  {
   "cell_type": "code",
   "execution_count": 55,
   "id": "4186cab5-c896-4353-8115-a684a774bb95",
   "metadata": {},
   "outputs": [
    {
     "name": "stdout",
     "output_type": "stream",
     "text": [
      "Square\n",
      "Circle\n"
     ]
    }
   ],
   "source": [
    "#12. Implement method overriding in a class hierarchy involving 'Shape' -> 'Square' and 'Circle'.\n",
    "class One:\n",
    "  def s(self):\n",
    "    print(\"Shape\")\n",
    "\n",
    "class Two(One):\n",
    "  def s(self):\n",
    "   print(\"Square\")\n",
    "\n",
    "class Three(One):\n",
    "  def s(self):\n",
    "   print(\"Circle\")\n",
    "\n",
    "tw = Two()\n",
    "th = Three()\n",
    "tw.s()\n",
    "th.s()"
   ]
  },
  {
   "cell_type": "code",
   "execution_count": 52,
   "id": "7d11923e-0804-479e-a9e5-adeb751bdf66",
   "metadata": {},
   "outputs": [
    {
     "name": "stdout",
     "output_type": "stream",
     "text": [
      "Vehicles produce pollution\n",
      "Vehicles produce pollution\n",
      "Vehicles produce pollution\n"
     ]
    }
   ],
   "source": [
    "#13. Write a program to demonstrate polymorphism using a base class 'Vehicle' and derived classes.\n",
    "class Vehicle:\n",
    "  def pollution(self):\n",
    "     print(\"Vehicles produce pollution\")\n",
    "      \n",
    "class Bike(Vehicle):\n",
    "  def start(self):\n",
    "     print(\"Bike started\")\n",
    "  def wheel(self):\n",
    "     print(\"bike has 2 wheels\")\n",
    "    \n",
    "class Car(Vehicle):\n",
    "  def start(self):\n",
    "      print(\"Car started\")\n",
    "  def wheel(self):\n",
    "      print(\"car has 4 wheels\")\n",
    "\n",
    "class Truck(Vehicle):\n",
    "  def start(self):\n",
    "     print(\"Truck started\")\n",
    "  def wheel(self):\n",
    "     print(\"truck has more than 4 wheels\") \n",
    "      \n",
    "c = Car()\n",
    "b = Bike()\n",
    "t = Truck()\n",
    "\n",
    "c.pollution()\n",
    "b.pollution()\n",
    "t.pollution()"
   ]
  },
  {
   "cell_type": "code",
   "execution_count": 48,
   "id": "6ac66aeb-eb4c-4542-a710-926f99a2f4a5",
   "metadata": {},
   "outputs": [
    {
     "name": "stdout",
     "output_type": "stream",
     "text": [
      "Card Payment\n",
      "Cash Payment\n"
     ]
    }
   ],
   "source": [
    "#14. Use abstract base class 'Payment' with abstract method 'pay'. Create subclasses for CardPayment and CashPayment.\n",
    "from abc import ABC, abstractmethod\n",
    "class Payment:\n",
    "  @abstractmethod\n",
    "  def pay(self):\n",
    "    pass\n",
    "\n",
    "class CardPayment(Payment):\n",
    "  def pay(self):\n",
    "    print(\"Card Payment\")\n",
    "\n",
    "class CashPayment(Payment):\n",
    "  def pay(self):\n",
    "   print(\"Cash Payment\")\n",
    "\n",
    "cp1 = CardPayment()\n",
    "cp2 = CashPayment()\n",
    "cp1.pay()\n",
    "cp2.pay()"
   ]
  },
  {
   "cell_type": "code",
   "execution_count": 47,
   "id": "ee9549a8-132a-475d-9eee-498562eba0cc",
   "metadata": {},
   "outputs": [
    {
     "name": "stdout",
     "output_type": "stream",
     "text": [
      "Afzaal\n",
      "80000\n"
     ]
    }
   ],
   "source": [
    "#15. Demonstrate encapsulation by creating a class 'Account' with private attributes and getter/setter methods.\n",
    "class Account:\n",
    "  def __init__(self, name, balance):\n",
    "    self.__name = name\n",
    "    self.__balance = balance\n",
    "\n",
    "  def get_name(self):\n",
    "    return self.__name\n",
    "\n",
    "  def set_name(self, name):\n",
    "    self.__name = name\n",
    "\n",
    "  def get_balance(self):\n",
    "    return self.__balance\n",
    "\n",
    "  def set_balance(self, balance):\n",
    "    self.__balance = balance\n",
    "\n",
    "\n",
    "customer1 = Account(\"Afzaal\", 50000)\n",
    "customer1.set_balance(80000)\n",
    "print(customer1.get_name())\n",
    "print(customer1.get_balance())\n"
   ]
  },
  {
   "cell_type": "code",
   "execution_count": null,
   "id": "d53b92f1-bfa7-47ff-9e54-b11589391bf3",
   "metadata": {},
   "outputs": [],
   "source": []
  }
 ],
 "metadata": {
  "kernelspec": {
   "display_name": "Python 3 (ipykernel)",
   "language": "python",
   "name": "python3"
  },
  "language_info": {
   "codemirror_mode": {
    "name": "ipython",
    "version": 3
   },
   "file_extension": ".py",
   "mimetype": "text/x-python",
   "name": "python",
   "nbconvert_exporter": "python",
   "pygments_lexer": "ipython3",
   "version": "3.12.7"
  }
 },
 "nbformat": 4,
 "nbformat_minor": 5
}
