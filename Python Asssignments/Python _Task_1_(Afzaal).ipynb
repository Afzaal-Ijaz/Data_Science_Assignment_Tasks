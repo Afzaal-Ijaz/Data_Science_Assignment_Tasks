{
 "cells": [
  {
   "cell_type": "code",
   "execution_count": 1,
   "id": "1726a6f4-7f48-4f1d-bab4-f99b0c2a1269",
   "metadata": {},
   "outputs": [
    {
     "name": "stdout",
     "output_type": "stream",
     "text": [
      "Afzaal Ijaz\n"
     ]
    }
   ],
   "source": [
    "#Print your full name \n",
    "print(\"Afzaal Ijaz\")"
   ]
  },
  {
   "cell_type": "code",
   "execution_count": 2,
   "id": "8af204d2-0108-446e-8d64-72a970535da4",
   "metadata": {},
   "outputs": [
    {
     "name": "stdout",
     "output_type": "stream",
     "text": [
      "Simple type print() \n"
     ]
    }
   ],
   "source": [
    "#Syntax of Print statement is\n",
    "print(\"Simple type print() \")"
   ]
  },
  {
   "cell_type": "code",
   "execution_count": 5,
   "id": "1238e5bd-c72b-4f0c-bd20-6c7e3dc52489",
   "metadata": {},
   "outputs": [
    {
     "name": "stdout",
     "output_type": "stream",
     "text": [
      "python is such a easy language\n",
      "What do you say\n"
     ]
    }
   ],
   "source": [
    "#multiple lines\n",
    "print('''python is such a easy language\n",
    "What do you say''') "
   ]
  },
  {
   "cell_type": "code",
   "execution_count": 6,
   "id": "c9178d2f-ae47-4b93-8873-dd89ed18ac7d",
   "metadata": {},
   "outputs": [],
   "source": [
    "#comment is python"
   ]
  },
  {
   "cell_type": "code",
   "execution_count": 15,
   "id": "18d6b17a-01cc-46eb-9612-361cb4f293ea",
   "metadata": {},
   "outputs": [
    {
     "data": {
      "text/plain": [
       "'\\nmulti-line comments\\n'"
      ]
     },
     "execution_count": 15,
     "metadata": {},
     "output_type": "execute_result"
    }
   ],
   "source": [
    "\"\"\"\n",
    "multi-line comments\n",
    "\"\"\""
   ]
  },
  {
   "cell_type": "code",
   "execution_count": 8,
   "id": "0202985c-d7ce-4883-9a02-bf71417e8615",
   "metadata": {},
   "outputs": [
    {
     "name": "stdout",
     "output_type": "stream",
     "text": [
      "He said,\"Python is great!\"\n"
     ]
    }
   ],
   "source": [
    "print('He said,\"Python is great!\"')"
   ]
  },
  {
   "cell_type": "code",
   "execution_count": 10,
   "id": "268f145a-1c38-4f17-a578-8d68ac9e372c",
   "metadata": {},
   "outputs": [
    {
     "name": "stdout",
     "output_type": "stream",
     "text": [
      "Hello \n",
      "World!\n"
     ]
    }
   ],
   "source": [
    "print(\"Hello \\nWorld!\")"
   ]
  },
  {
   "cell_type": "code",
   "execution_count": 12,
   "id": "c2e665d0-e93e-4b4e-a2e4-cf87d1104264",
   "metadata": {},
   "outputs": [
    {
     "name": "stdout",
     "output_type": "stream",
     "text": [
      "Name\t Age\t City\n",
      "Ali \t 25\t Lahore\n"
     ]
    }
   ],
   "source": [
    "#print table\n",
    "print(\"Name\\t Age\\t City\\nAli \\t 25\\t Lahore\")"
   ]
  },
  {
   "cell_type": "code",
   "execution_count": 16,
   "id": "0e9ad552-080c-4eea-ae72-2fc85e024135",
   "metadata": {},
   "outputs": [
    {
     "ename": "SyntaxError",
     "evalue": "unterminated string literal (detected at line 2) (2770543813.py, line 2)",
     "output_type": "error",
     "traceback": [
      "\u001b[1;36m  Cell \u001b[1;32mIn[16], line 2\u001b[1;36m\u001b[0m\n\u001b[1;33m    print(\"Program)\u001b[0m\n\u001b[1;37m          ^\u001b[0m\n\u001b[1;31mSyntaxError\u001b[0m\u001b[1;31m:\u001b[0m unterminated string literal (detected at line 2)\n"
     ]
    }
   ],
   "source": [
    "# This code will through error\n",
    "print(\"Program)"
   ]
  },
  {
   "cell_type": "code",
   "execution_count": null,
   "id": "479f0836-b7be-4189-bdf9-2b126a7e8aab",
   "metadata": {},
   "outputs": [],
   "source": []
  },
  {
   "cell_type": "code",
   "execution_count": null,
   "id": "d231770b-53fa-474a-9fb6-dea6a358533c",
   "metadata": {},
   "outputs": [],
   "source": []
  }
 ],
 "metadata": {
  "kernelspec": {
   "display_name": "Python 3 (ipykernel)",
   "language": "python",
   "name": "python3"
  },
  "language_info": {
   "codemirror_mode": {
    "name": "ipython",
    "version": 3
   },
   "file_extension": ".py",
   "mimetype": "text/x-python",
   "name": "python",
   "nbconvert_exporter": "python",
   "pygments_lexer": "ipython3",
   "version": "3.12.7"
  }
 },
 "nbformat": 4,
 "nbformat_minor": 5
}
