{
 "cells": [
  {
   "cell_type": "code",
   "execution_count": 1,
   "id": "c4315ea2-c773-4535-9e23-75c69899b7c6",
   "metadata": {},
   "outputs": [
    {
     "name": "stdout",
     "output_type": "stream",
     "text": [
      "{1, 2, 3, 4, 5}\n"
     ]
    }
   ],
   "source": [
    "#1. Create a set from this list: [1, 2, 2, 3, 4, 4, 5]. Print the set.\n",
    "my_list = [1, 2, 2, 3, 4, 4, 5]\n",
    "set1 = set(my_list)\n",
    "print(set1)"
   ]
  },
  {
   "cell_type": "code",
   "execution_count": 2,
   "id": "142393fb-53fa-403e-9c24-818c5507ca47",
   "metadata": {},
   "outputs": [
    {
     "name": "stdout",
     "output_type": "stream",
     "text": [
      "{'name': 'Afzaal', 'age': 21, 'city': 'Lahore'}\n"
     ]
    }
   ],
   "source": [
    "#2. Create a dictionary with your name, age, and city. Print the dictionary.\n",
    "dic = {\n",
    "    \"name\" : \"Afzaal\" ,\n",
    "    \"age\" : 21 ,\n",
    "    \"city\" : \"Lahore\"\n",
    "}\n",
    "print(dic)"
   ]
  },
  {
   "cell_type": "code",
   "execution_count": 3,
   "id": "4b2fe649-d06d-4125-be2f-7bf1e124bac3",
   "metadata": {},
   "outputs": [
    {
     "name": "stdout",
     "output_type": "stream",
     "text": [
      "HELLO WORLD\n"
     ]
    }
   ],
   "source": [
    "#3.Use a string method to convert the string 'hello world' to uppercase.\n",
    "string = \"hello world\"\n",
    "print(string.upper())"
   ]
  },
  {
   "cell_type": "code",
   "execution_count": 4,
   "id": "624246d1-e9ed-4a96-b2c6-8e43841d49cc",
   "metadata": {},
   "outputs": [
    {
     "name": "stdout",
     "output_type": "stream",
     "text": [
      "The length of string is: 18\n"
     ]
    }
   ],
   "source": [
    "#4. Find the length of the string 'Python Programming'.\n",
    "string = \"Python Programming\"\n",
    "print(\"The length of string is:\",len(string))"
   ]
  },
  {
   "cell_type": "code",
   "execution_count": 5,
   "id": "4104a3a4-46dc-49ee-815e-a4a5ec20e7f5",
   "metadata": {},
   "outputs": [
    {
     "name": "stdout",
     "output_type": "stream",
     "text": [
      "apple is in the set\n"
     ]
    }
   ],
   "source": [
    "#5. Check if the word 'apple' is in the set {'banana', 'apple', 'orange'}.\n",
    "fruit = {\"banana\", \"apple\", \"orange\"}\n",
    "if \"apple\" in fruit:\n",
    "  print(\"apple is in the set\")\n",
    "else:\n",
    "  print(\"apple is not in the set\")"
   ]
  },
  {
   "cell_type": "code",
   "execution_count": 6,
   "id": "5ed7637f-7a73-4cad-b0a2-0207b7aa8845",
   "metadata": {},
   "outputs": [
    {
     "name": "stdout",
     "output_type": "stream",
     "text": [
      "dict_keys(['name', 'age', 'city'])\n"
     ]
    }
   ],
   "source": [
    "#6. Print all keys from the dictionary: {'name': 'Ali', 'age': 25, 'city': 'Lahore'}.\n",
    "dic = {\n",
    "    \"name\" : \"Ali\" ,\n",
    "    \"age\" : 25 ,\n",
    "    \"city\" : \"Lahore\"\n",
    "}\n",
    "print(dic.keys())"
   ]
  },
  {
   "cell_type": "code",
   "execution_count": 7,
   "id": "e8586ff3-e2c6-4107-ad14-245a9fcd199c",
   "metadata": {},
   "outputs": [
    {
     "name": "stdout",
     "output_type": "stream",
     "text": [
      "3\n"
     ]
    }
   ],
   "source": [
    "#7. Use string method to count how many times 'a' appears in 'banana'.\n",
    "string = \"banana\"\n",
    "print(string.count(\"a\"))"
   ]
  },
  {
   "cell_type": "code",
   "execution_count": 8,
   "id": "1a04f307-00af-4bce-9baf-124fa74043e7",
   "metadata": {},
   "outputs": [
    {
     "name": "stdout",
     "output_type": "stream",
     "text": [
      "{'red', 'green', 'yellow'}\n"
     ]
    }
   ],
   "source": [
    "#8. Add an item to this set: {'red', 'green'}. Add 'blue'.\n",
    "color = {\"red\", \"green\"}\n",
    "color.add(\"yellow\")\n",
    "print(color)"
   ]
  },
  {
   "cell_type": "code",
   "execution_count": 9,
   "id": "ec3e45c1-6ad7-433a-9a61-22d7e588c7b3",
   "metadata": {},
   "outputs": [
    {
     "name": "stdout",
     "output_type": "stream",
     "text": [
      "{'name': 'Sara', 'age': 23}\n"
     ]
    }
   ],
   "source": [
    "#9. Change the value of 'age' in the dictionary {'name': 'Sara', 'age': 22} to 23.\n",
    "dic = {\n",
    "    \"name\" : \"Sara\" ,\n",
    "    \"age\" : 22\n",
    "}\n",
    "dic[\"age\"] = 23\n",
    "print(dic)"
   ]
  },
  {
   "cell_type": "code",
   "execution_count": 12,
   "id": "2e142c96-ecb2-4ed9-8a7d-a810d97d1708",
   "metadata": {},
   "outputs": [
    {
     "name": "stdout",
     "output_type": "stream",
     "text": [
      "{'dog', 'mouse'}\n"
     ]
    }
   ],
   "source": [
    "#10. Remove the word 'cat' from the set {'cat', 'dog', 'mouse'}.\n",
    "set1 = {\"cat\", \"dog\", \"mouse\"}\n",
    "set1.remove(\"cat\")\n",
    "print(set1)"
   ]
  },
  {
   "cell_type": "code",
   "execution_count": 13,
   "id": "13012dc7-9c41-46e8-b3bb-3fdb8a278dec",
   "metadata": {},
   "outputs": [
    {
     "name": "stdout",
     "output_type": "stream",
     "text": [
      "['apple', 'banana', 'orange']\n"
     ]
    }
   ],
   "source": [
    "#11. Split the string 'apple, banana, orange' into a list using string method\n",
    "fruit = \"apple\",\"banana\",\"orange\"\n",
    "print(list(fruit))"
   ]
  },
  {
   "cell_type": "code",
   "execution_count": 14,
   "id": "6bfadd10-a1d9-4166-957c-7d8d3976f04d",
   "metadata": {},
   "outputs": [
    {
     "name": "stdout",
     "output_type": "stream",
     "text": [
      "Exist\n"
     ]
    }
   ],
   "source": [
    "#12. Check if key 'city' exists in the dictionary {'name': 'Ali', 'city': 'Karachi'}.\n",
    "dic = {\n",
    "    \"name\" : \"Ali\" ,\n",
    "    \"city\" : \"Karachi\"\n",
    "}\n",
    "if \"city\" in dic:\n",
    "  print(\"Exist\")\n",
    "else:\n",
    "  print(\"Not exist\")"
   ]
  },
  {
   "cell_type": "code",
   "execution_count": 15,
   "id": "e3d3287e-be88-48c9-9236-84d0a85f4475",
   "metadata": {},
   "outputs": [
    {
     "name": "stdout",
     "output_type": "stream",
     "text": [
      "Python is fun\n"
     ]
    }
   ],
   "source": [
    "#13. Join the list ['Python', 'is', 'fun'] into a single string.\n",
    "list1 = [\"Python\", \"is\", \"fun\"]\n",
    "string = \" \".join(list1)\n",
    "print(string)"
   ]
  },
  {
   "cell_type": "code",
   "execution_count": 16,
   "id": "56fdcf77-418d-4d03-aa8a-44a5eba4ae4c",
   "metadata": {},
   "outputs": [
    {
     "name": "stdout",
     "output_type": "stream",
     "text": [
      "None\n"
     ]
    }
   ],
   "source": [
    "#14. Clear all items from the dictionary {'a': 1, 'b': 2}.\n",
    "dic = {\n",
    "    \"a\" : 1 ,\n",
    "    \"b\" : 2\n",
    "}\n",
    "print(dic.clear())"
   ]
  },
  {
   "cell_type": "code",
   "execution_count": 17,
   "id": "59f3dfc9-b626-48d3-aa70-423240601eeb",
   "metadata": {},
   "outputs": [
    {
     "name": "stdout",
     "output_type": "stream",
     "text": [
      "hello Python\n"
     ]
    }
   ],
   "source": [
    "#15. Use a string method to replace 'world' with 'Python' in the string 'hello world'.\n",
    "string1 = \"hello world\"\n",
    "new = string1.replace(\"world\", \"Python\")\n",
    "print(new)"
   ]
  },
  {
   "cell_type": "code",
   "execution_count": null,
   "id": "4c653599-4b16-4c38-a452-300f95864aeb",
   "metadata": {},
   "outputs": [],
   "source": []
  }
 ],
 "metadata": {
  "kernelspec": {
   "display_name": "Python 3 (ipykernel)",
   "language": "python",
   "name": "python3"
  },
  "language_info": {
   "codemirror_mode": {
    "name": "ipython",
    "version": 3
   },
   "file_extension": ".py",
   "mimetype": "text/x-python",
   "name": "python",
   "nbconvert_exporter": "python",
   "pygments_lexer": "ipython3",
   "version": "3.12.7"
  }
 },
 "nbformat": 4,
 "nbformat_minor": 5
}
