{
 "cells": [
  {
   "cell_type": "markdown",
   "id": "896fe64f-9d0b-4d58-ba14-be9e371ecb46",
   "metadata": {},
   "source": [
    "1. Write a program using a `for` loop and `range()` to print numbers from 1 to 10."
   ]
  },
  {
   "cell_type": "code",
   "execution_count": 1,
   "id": "fe7ab08f-9d4c-49db-9fde-0ca4551bb4ab",
   "metadata": {},
   "outputs": [
    {
     "name": "stdout",
     "output_type": "stream",
     "text": [
      "1\n",
      "2\n",
      "3\n",
      "4\n",
      "5\n",
      "6\n",
      "7\n",
      "8\n",
      "9\n",
      "10\n"
     ]
    }
   ],
   "source": [
    "for i in range(1 , 11):\n",
    "    print(i)"
   ]
  },
  {
   "cell_type": "markdown",
   "id": "aa5cb262-061f-48f9-a21a-2aee2ff59c14",
   "metadata": {},
   "source": [
    "2. Write a program using a `while` loop to print the first 10 natural numbers."
   ]
  },
  {
   "cell_type": "markdown",
   "id": "a5778ab7-b754-4c78-a24c-543c07421cec",
   "metadata": {},
   "source": [
    "i = 1\n",
    "while i < 11:\n",
    "    print(i)\n",
    "    i +=1"
   ]
  },
  {
   "cell_type": "markdown",
   "id": "63bc2cf5-0ab7-41b3-b74e-ebbbfa1c14af",
   "metadata": {},
   "source": [
    "3. Print all even numbers between 1 and 50 using a `for` loop and `range()`."
   ]
  },
  {
   "cell_type": "code",
   "execution_count": 4,
   "id": "d7065d18-a1db-422c-a995-31cde1f5d959",
   "metadata": {},
   "outputs": [
    {
     "name": "stdout",
     "output_type": "stream",
     "text": [
      "0\n",
      "2\n",
      "4\n",
      "6\n",
      "8\n",
      "10\n",
      "12\n",
      "14\n",
      "16\n",
      "18\n",
      "20\n",
      "22\n",
      "24\n",
      "26\n",
      "28\n",
      "30\n",
      "32\n",
      "34\n",
      "36\n",
      "38\n",
      "40\n",
      "42\n",
      "44\n",
      "46\n",
      "48\n",
      "50\n"
     ]
    }
   ],
   "source": [
    "for i in range(0 , 51 , 2):\n",
    "    print(i)\n",
    "    "
   ]
  },
  {
   "cell_type": "markdown",
   "id": "a1fe6ef1-b813-41c6-8476-953f64bea9eb",
   "metadata": {},
   "source": [
    "4. Print the sum of numbers from 1 to 100 using a `for` loop."
   ]
  },
  {
   "cell_type": "code",
   "execution_count": 8,
   "id": "f499a9bd-a379-4ea4-a2e6-9f54b883334b",
   "metadata": {},
   "outputs": [
    {
     "name": "stdout",
     "output_type": "stream",
     "text": [
      "5050\n"
     ]
    }
   ],
   "source": [
    "sum = 0\n",
    "for i in range(1 , 101):\n",
    "    sum += i \n",
    "print(sum)"
   ]
  },
  {
   "cell_type": "markdown",
   "id": "4347339d-9381-4342-95dc-8c6de7595934",
   "metadata": {},
   "source": [
    "5. Use a `while` loop to calculate the factorial of a number entered by the user."
   ]
  },
  {
   "cell_type": "code",
   "execution_count": 11,
   "id": "cc3f97d5-556a-4e66-a3fd-9b3d604c7f31",
   "metadata": {},
   "outputs": [
    {
     "name": "stdin",
     "output_type": "stream",
     "text": [
      "Enter a Number: 5\n"
     ]
    },
    {
     "name": "stdout",
     "output_type": "stream",
     "text": [
      "120\n"
     ]
    }
   ],
   "source": [
    "num = int(input(\"Enter a Number:\"))\n",
    "fact = 1\n",
    "for i in range(1 , num+1):\n",
    "    fact *= i\n",
    "print(fact)"
   ]
  },
  {
   "cell_type": "markdown",
   "id": "5433181d-c285-4a3a-a305-3ddd554ce2dd",
   "metadata": {},
   "source": [
    "   Q6. Print the following pattern using a `for` loop:\n",
    "   *\n",
    "   **\n",
    "   ***\n",
    "   ****\n",
    "   *****\n"
   ]
  },
  {
   "cell_type": "code",
   "execution_count": 12,
   "id": "57ac92fa-423a-4936-8cbd-a95045b71b9d",
   "metadata": {},
   "outputs": [
    {
     "name": "stdout",
     "output_type": "stream",
     "text": [
      "*\n",
      "**\n",
      "***\n",
      "****\n",
      "*****\n"
     ]
    }
   ],
   "source": [
    "for i in range(1 , 6):\n",
    "    print(\"*\" * i)"
   ]
  },
  {
   "cell_type": "code",
   "execution_count": null,
   "id": "9425df10-6960-4589-b7fb-49840afef442",
   "metadata": {},
   "outputs": [],
   "source": [
    "   Q7. Print this pattern using nested `for` loops:\n",
    "   1\n",
    "   12\n",
    "   123\n",
    "   1234\n",
    "   12345\n"
   ]
  },
  {
   "cell_type": "code",
   "execution_count": 24,
   "id": "8e316ee4-5a4e-4a02-802d-b8e4abf05e8c",
   "metadata": {},
   "outputs": [
    {
     "name": "stdout",
     "output_type": "stream",
     "text": [
      "1\n",
      "12\n",
      "123\n",
      "1234\n",
      "12345\n"
     ]
    }
   ],
   "source": [
    "for i in range(1 , 6):\n",
    "    for j in range(1 , i+1):\n",
    "        print(j , end =\"\")\n",
    "    print()"
   ]
  },
  {
   "cell_type": "code",
   "execution_count": null,
   "id": "dd308d03-c721-4a61-8d0c-910ed8cbda82",
   "metadata": {},
   "outputs": [],
   "source": [
    "   Q8. Create a loop pattern of stars in reverse:\n",
    "   *****\n",
    "   ****\n",
    "   ***\n",
    "   **\n",
    "   *\n"
   ]
  },
  {
   "cell_type": "code",
   "execution_count": 37,
   "id": "e73a7d4f-80ef-4be0-bc02-3313cb5a8e35",
   "metadata": {},
   "outputs": [
    {
     "name": "stdout",
     "output_type": "stream",
     "text": [
      "*****\n",
      "****\n",
      "***\n",
      "**\n",
      "*\n"
     ]
    }
   ],
   "source": [
    "for i in range(5 , 0 , -1):\n",
    "    print(\"*\" * i)\n",
    "    "
   ]
  },
  {
   "cell_type": "markdown",
   "id": "d1dbdede-e897-4ea9-b313-0ceb0fad9a9f",
   "metadata": {},
   "source": [
    "Q9. Write a `for` loop to print the multiplication table of any number entered by the user."
   ]
  },
  {
   "cell_type": "code",
   "execution_count": 41,
   "id": "a8bdc90e-8b45-4d9b-ad7f-092f85f317cb",
   "metadata": {},
   "outputs": [
    {
     "name": "stdin",
     "output_type": "stream",
     "text": [
      "Enter a number 5\n"
     ]
    },
    {
     "name": "stdout",
     "output_type": "stream",
     "text": [
      "5 * 1 = 5\n",
      "5 * 2 = 10\n",
      "5 * 3 = 15\n",
      "5 * 4 = 20\n",
      "5 * 5 = 25\n",
      "5 * 6 = 30\n",
      "5 * 7 = 35\n",
      "5 * 8 = 40\n",
      "5 * 9 = 45\n",
      "5 * 10 = 50\n"
     ]
    }
   ],
   "source": [
    "z = int(input(\"Enter a number\"))\n",
    "for i in range(1 , 11):\n",
    "    print(f\"{z} * {i} = {z*i}\")"
   ]
  },
  {
   "cell_type": "markdown",
   "id": "2d61858a-f96c-4131-b749-032a5054db23",
   "metadata": {},
   "source": [
    "Q10. Use a `while` loop to print the digits of a number in reverse order (e.g., 1234 → 4 3 2 1).\n"
   ]
  },
  {
   "cell_type": "code",
   "execution_count": 43,
   "id": "b49d1123-be46-42ef-bd26-dc83e05febb3",
   "metadata": {},
   "outputs": [
    {
     "name": "stdin",
     "output_type": "stream",
     "text": [
      "Enter a number:  2468\n"
     ]
    },
    {
     "name": "stdout",
     "output_type": "stream",
     "text": [
      "8 6 4 2 "
     ]
    }
   ],
   "source": [
    "num = int(input(\"Enter a number: \"))\n",
    "while num > 0:\n",
    "    digit = num % 10\n",
    "    print(digit, end=\" \")\n",
    "    num = num // 10\n"
   ]
  },
  {
   "cell_type": "markdown",
   "id": "4aaeba05-6fc8-46bb-bec1-6415cbf7fbb3",
   "metadata": {},
   "source": [
    "Q11. Print all prime numbers between 1 and 100 using a loop."
   ]
  },
  {
   "cell_type": "code",
   "execution_count": 47,
   "id": "36eb7ef1-5fe9-4f22-bbe2-0b6e8c65cb37",
   "metadata": {},
   "outputs": [
    {
     "name": "stdout",
     "output_type": "stream",
     "text": [
      "2 3 5 7 11 13 17 19 23 29 31 37 41 43 47 53 59 61 67 71 73 79 83 89 97 "
     ]
    }
   ],
   "source": [
    "for num in range(2, 101):\n",
    "    is_prime = True\n",
    "    for i in range(2, int(num ** 0.5) + 1):\n",
    "        if num % i == 0:\n",
    "            is_prime = False\n",
    "            break\n",
    "    if is_prime:\n",
    "        print(num, end=\" \")"
   ]
  },
  {
   "cell_type": "markdown",
   "id": "c839b6d2-9f05-4a08-818f-7c54455a737e",
   "metadata": {},
   "source": [
    "Q12. Ask the user for a number and use a loop to check if it is a palindrome number."
   ]
  },
  {
   "cell_type": "code",
   "execution_count": 10,
   "id": "a112f6e0-565e-44a6-a075-60b154668142",
   "metadata": {},
   "outputs": [
    {
     "name": "stdin",
     "output_type": "stream",
     "text": [
      "Enter a Number 121\n"
     ]
    },
    {
     "name": "stdout",
     "output_type": "stream",
     "text": [
      "Its a Plindrome number\n"
     ]
    }
   ],
   "source": [
    "num = int(input(\"Enter a Number\"))\n",
    "actual_num = num\n",
    "reversed_num = 0\n",
    "\n",
    "while num > 0:\n",
    "  digit = num % 10\n",
    "  reversed_num = reversed_num * 10 + digit\n",
    "  num //= 10\n",
    "\n",
    "if (actual_num == reversed_num):\n",
    "  print(\"Its a Plindrome number\")\n",
    "else:\n",
    "  print(\"Number is not a palindrome\")"
   ]
  },
  {
   "cell_type": "markdown",
   "id": "c952ac40-186e-46ae-bb5e-fa215db2a9d6",
   "metadata": {},
   "source": [
    "Q13. Print the Fibonacci sequence up to 10 terms using a loop."
   ]
  },
  {
   "cell_type": "code",
   "execution_count": 11,
   "id": "ef2d8176-ab7a-4f69-9aa8-efa5b5336a60",
   "metadata": {},
   "outputs": [
    {
     "name": "stdout",
     "output_type": "stream",
     "text": [
      "0 1 1 2 3 5 8 13 21 34 "
     ]
    }
   ],
   "source": [
    "num1 = 0\n",
    "num2 = 1\n",
    "\n",
    "for i in range(10):\n",
    "  print(num1, end = \" \")\n",
    "  next_num = num1 + num2\n",
    "  num1 = num2\n",
    "  num2 = next_num"
   ]
  },
  {
   "cell_type": "markdown",
   "id": "a5287f9d-7892-4869-aad8-5447a361b043",
   "metadata": {},
   "source": [
    "14. Count how many digits are in an integer entered by the user using a `while` loop."
   ]
  },
  {
   "cell_type": "code",
   "execution_count": 18,
   "id": "1dc80c39-a735-41cf-ab74-7bb4d80b82c9",
   "metadata": {},
   "outputs": [
    {
     "name": "stdin",
     "output_type": "stream",
     "text": [
      "Enter a Number 1001\n"
     ]
    },
    {
     "name": "stdout",
     "output_type": "stream",
     "text": [
      "Digits count 4\n"
     ]
    }
   ],
   "source": [
    "num = int(input(\"Enter a Number\"))\n",
    "count = 0\n",
    "while num  > 0:\n",
    "    num //= 10\n",
    "    count +=1\n",
    "print(\"Digits count\",count)"
   ]
  },
  {
   "cell_type": "code",
   "execution_count": null,
   "id": "4a4f1b76-d6b4-445d-968d-6b76ac58077b",
   "metadata": {},
   "outputs": [],
   "source": [
    "Q15. Triangle number pattern \n",
    "1\n",
    "2 3\n",
    "4 5 6\n",
    "7 8 9 10"
   ]
  },
  {
   "cell_type": "code",
   "execution_count": 19,
   "id": "1e05569f-735e-41a3-8a65-83629970170c",
   "metadata": {},
   "outputs": [
    {
     "name": "stdout",
     "output_type": "stream",
     "text": [
      "1 \n",
      "2 3 \n",
      "4 5 6 \n",
      "7 8 9 10 \n"
     ]
    }
   ],
   "source": [
    "num = 1\n",
    "for i in range(1,5):\n",
    "  for j in range(i):\n",
    "    print(num, end = \" \")\n",
    "    num += 1\n",
    "  print()"
   ]
  },
  {
   "cell_type": "code",
   "execution_count": null,
   "id": "818082f9-46d3-45f4-a6c7-a431ebf5fa48",
   "metadata": {},
   "outputs": [],
   "source": []
  }
 ],
 "metadata": {
  "kernelspec": {
   "display_name": "Python 3 (ipykernel)",
   "language": "python",
   "name": "python3"
  },
  "language_info": {
   "codemirror_mode": {
    "name": "ipython",
    "version": 3
   },
   "file_extension": ".py",
   "mimetype": "text/x-python",
   "name": "python",
   "nbconvert_exporter": "python",
   "pygments_lexer": "ipython3",
   "version": "3.12.7"
  }
 },
 "nbformat": 4,
 "nbformat_minor": 5
}
