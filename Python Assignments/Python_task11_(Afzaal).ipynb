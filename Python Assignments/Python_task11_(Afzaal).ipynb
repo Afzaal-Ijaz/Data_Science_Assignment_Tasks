{
 "cells": [
  {
   "cell_type": "code",
   "execution_count": null,
   "id": "71549117-6acd-422e-b1d9-504d0ee57d5c",
   "metadata": {},
   "outputs": [],
   "source": [
    "\n",
    "11. Write a script that appends a new line to an existing file.\n",
    "12. Write a program to find and replace multiple words in a text file using a dictionary.\n",
    "13. Write a program that reads a file and prints only the unique words used in it.\n",
    "14. Write a Python script to read a text file and print its content in uppercase.\n",
    "15. Write a program to read a file and remove all duplicate lines.\n"
   ]
  },
  {
   "cell_type": "code",
   "execution_count": 2,
   "id": "5bf98408-a8f8-420f-b449-b26ab6ab7e73",
   "metadata": {},
   "outputs": [
    {
     "name": "stdout",
     "output_type": "stream",
     "text": [
      "2\n"
     ]
    }
   ],
   "source": [
    "#1. Write a Python program to count the number of lines in a text file.\n",
    "with open('example.txt', 'r') as f:\n",
    "    line = f.readlines()\n",
    "    print(len(line))"
   ]
  },
  {
   "cell_type": "code",
   "execution_count": 3,
   "id": "7b6c7f22-5ebf-4728-9e0c-a16aa42d9e71",
   "metadata": {},
   "outputs": [
    {
     "name": "stdout",
     "output_type": "stream",
     "text": [
      "10\n"
     ]
    }
   ],
   "source": [
    "#2. Write a program to count the total number of words in a given text file.\n",
    "with open('example.txt', 'r') as f:\n",
    "  content = f.read()\n",
    "  print(len(content.split()))"
   ]
  },
  {
   "cell_type": "code",
   "execution_count": 5,
   "id": "72778ca6-be78-445c-9b64-6c8966956fd7",
   "metadata": {},
   "outputs": [
    {
     "name": "stdout",
     "output_type": "stream",
     "text": [
      "50\n"
     ]
    }
   ],
   "source": [
    "#3. Write a program that counts the number of characters (including spaces) in a file.\n",
    "with open('example.txt', 'r') as f:\n",
    "    data = f.read()\n",
    "    print(len(data))"
   ]
  },
  {
   "cell_type": "code",
   "execution_count": 6,
   "id": "9671aa78-01f8-428f-aa60-c0f600548abd",
   "metadata": {},
   "outputs": [
    {
     "name": "stdin",
     "output_type": "stream",
     "text": [
      "Enter the word you want to search:  python\n"
     ]
    },
    {
     "name": "stdout",
     "output_type": "stream",
     "text": [
      "Python is such a hard language!\n",
      "\n"
     ]
    }
   ],
   "source": [
    "#4. Write a Python script to search for a specific word in a text file and display the lines where it appears.\n",
    "word = input(\"Enter the word you want to search: \")\n",
    "found = True\n",
    "\n",
    "with open('example.txt', 'r') as f:\n",
    "  content = f.readlines()\n",
    "  for line in content:\n",
    "   if word.lower() in line.lower():\n",
    "      print(line)\n",
    "\n",
    "if not found:\n",
    "  print(\"Word not found\")"
   ]
  },
  {
   "cell_type": "code",
   "execution_count": 7,
   "id": "458c5dac-b8f7-4036-aa61-2d54decb0ca9",
   "metadata": {},
   "outputs": [],
   "source": [
    "#5. Create a program that replaces a given word in a file with another word and saves the result.\n",
    "with open('example.txt', 'r') as f:\n",
    "  content = f.read()\n",
    "new_content = content.replace('Python', 'Java')\n",
    "\n",
    "with open('example.txt', 'w') as f:\n",
    "  f.write(new_content)"
   ]
  },
  {
   "cell_type": "code",
   "execution_count": 8,
   "id": "c7155ee5-3a92-44de-85e5-4765b5db7385",
   "metadata": {},
   "outputs": [
    {
     "name": "stdout",
     "output_type": "stream",
     "text": [
      "java : 1\n",
      "is : 1\n",
      "such : 1\n",
      "a : 1\n",
      "hard : 1\n",
      "language! : 1\n",
      "what : 1\n",
      "do : 1\n",
      "you : 1\n",
      "think. : 1\n"
     ]
    }
   ],
   "source": [
    "#6. Write a program to read a file and print the frequency of each word (word count).\n",
    "with open('example.txt', 'r') as f:\n",
    "  content = f.read()\n",
    "  content = content.lower()\n",
    "  word_count = content.split()\n",
    "  freq = {}\n",
    "\n",
    "for words in word_count:\n",
    "  if words in freq:\n",
    "    freq[words] += 1\n",
    "  else:\n",
    "    freq[words] = 1\n",
    "\n",
    "for i, count in freq.items():\n",
    " print(f\"{i} : {count}\")"
   ]
  },
  {
   "cell_type": "code",
   "execution_count": 9,
   "id": "22d031e3-dffb-4389-8d7d-019ff9ffb2d0",
   "metadata": {},
   "outputs": [
    {
     "name": "stdin",
     "output_type": "stream",
     "text": [
      "Enter the word:  is\n"
     ]
    },
    {
     "name": "stdout",
     "output_type": "stream",
     "text": [
      "The word is appears 1 times in the file.\n"
     ]
    }
   ],
   "source": [
    "#7. Write a script to read a file and count how many times a specific word appears.\n",
    "search_word = input(\"Enter the word: \")\n",
    "count = 0\n",
    "\n",
    "with open('example.txt', 'r') as f:\n",
    "  content = f.read()\n",
    "\n",
    "word = content.lower()\n",
    "count_word = word.count(search_word.lower())\n",
    "\n",
    "print(f\"The word {search_word} appears {count_word} times in the file.\")"
   ]
  },
  {
   "cell_type": "code",
   "execution_count": 10,
   "id": "bbeeaf92-8063-4344-b4ff-62d0a2a3ce4d",
   "metadata": {},
   "outputs": [],
   "source": [
    "#8. Write a program that removes all punctuation from a text file and saves the cleaned version.\n",
    "import string\n",
    "with open('example.txt', 'r') as f:\n",
    "  content = f.read()\n",
    "\n",
    "for i in string.punctuation:\n",
    "  clean_version = content.replace(i, '')\n",
    "\n",
    "with open('file.txt', 'w') as f:\n",
    "  f.write(clean_version)"
   ]
  },
  {
   "cell_type": "code",
   "execution_count": 12,
   "id": "068a8e20-396d-4117-b9f0-edf7893eac75",
   "metadata": {},
   "outputs": [],
   "source": [
    "#9. Write a Python program to reverse the content of each line in a file.\n",
    "with open('example2.txt', 'r') as f:\n",
    "  lines = f.readlines()\n",
    "\n",
    "\n",
    "with open('example2.txt', 'w') as f1:\n",
    "  for line in lines:\n",
    "    reversed_line = line.strip()[::-1]\n",
    "    f1.write(reversed_line)"
   ]
  },
  {
   "cell_type": "code",
   "execution_count": null,
   "id": "3d5e1568-1a44-43d3-ac71-8ed732b0f812",
   "metadata": {},
   "outputs": [],
   "source": []
  }
 ],
 "metadata": {
  "kernelspec": {
   "display_name": "Python 3 (ipykernel)",
   "language": "python",
   "name": "python3"
  },
  "language_info": {
   "codemirror_mode": {
    "name": "ipython",
    "version": 3
   },
   "file_extension": ".py",
   "mimetype": "text/x-python",
   "name": "python",
   "nbconvert_exporter": "python",
   "pygments_lexer": "ipython3",
   "version": "3.12.7"
  }
 },
 "nbformat": 4,
 "nbformat_minor": 5
}
