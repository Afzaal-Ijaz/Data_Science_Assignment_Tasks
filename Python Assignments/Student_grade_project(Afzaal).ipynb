{
 "cells": [
  {
   "cell_type": "code",
   "execution_count": 1,
   "id": "ab03aa0d-c7a9-4bcf-98b2-9f141045c44e",
   "metadata": {},
   "outputs": [],
   "source": [
    "\n",
    "students = {}\n",
    "def add_student(student_id, name):\n",
    "    if student_id in students:\n",
    "        print(\"Student ID already exists.\")\n",
    "    else:\n",
    "        students[student_id] = {'name': name, 'grades': {}}\n",
    "        print(f\"Student '{name}' added successfully.\")\n",
    "\n",
    "def add_grade(student_id, subject, grade):\n",
    "    if student_id in students:\n",
    "        students[student_id]['grades'][subject] = grade\n",
    "        print(f\"Grade added: {students[student_id]['name']} - {subject}: {grade}\")\n",
    "    else:\n",
    "        print(\"Student ID not found.\")\n"
   ]
  },
  {
   "cell_type": "code",
   "execution_count": 2,
   "id": "df296390-a42c-4cfe-8b9f-d803377bc755",
   "metadata": {},
   "outputs": [
    {
     "name": "stdout",
     "output_type": "stream",
     "text": [
      "Student 'Ali' added successfully.\n",
      "Student 'Sara' added successfully.\n",
      "Grade added: Ali - Math: 85\n",
      "Grade added: Ali - Science: 78\n",
      "Grade added: Sara - Math: 92\n",
      "Grade added: Sara - Science: 88\n",
      "\n",
      "Student ID: 101\n",
      "Name: Ali\n",
      "Grades:\n",
      "  Math: 85\n",
      "  Science: 78\n",
      "Average: 81.50, Letter Grade: B\n",
      "\n",
      "Student ID: 102\n",
      "Name: Sara\n",
      "Grades:\n",
      "  Math: 92\n",
      "  Science: 88\n",
      "Average: 90.00, Letter Grade: A\n"
     ]
    }
   ],
   "source": [
    "def calculate_average_and_letter(student_id):\n",
    "    if student_id in students:\n",
    "        grades = students[student_id]['grades'].values()\n",
    "        if grades:\n",
    "            avg = sum(grades) / len(grades)\n",
    "            if avg >= 90:\n",
    "                letter = 'A'\n",
    "            elif avg >= 80:\n",
    "                letter = 'B'\n",
    "            elif avg >= 70:\n",
    "                letter = 'C'\n",
    "            elif avg >= 60:\n",
    "                letter = 'D'\n",
    "            else:\n",
    "                letter = 'F'\n",
    "            return avg, letter\n",
    "        else:\n",
    "            print(\"No grades available.\")\n",
    "    else:\n",
    "        print(\"Student ID not found.\")\n",
    "    return None, None\n",
    "\n",
    "def display_all_students():\n",
    "    for sid, data in students.items():\n",
    "        print(f\"\\nStudent ID: {sid}\")\n",
    "        print(f\"Name: {data['name']}\")\n",
    "        print(\"Grades:\")\n",
    "        for subject, grade in data['grades'].items():\n",
    "            print(f\"  {subject}: {grade}\")\n",
    "        avg, letter = calculate_average_and_letter(sid)\n",
    "        if avg is not None:\n",
    "            print(f\"Average: {avg:.2f}, Letter Grade: {letter}\")\n",
    "\n",
    "# Add students\n",
    "add_student(\"101\", \"Ali\")\n",
    "add_student(\"102\", \"Sara\")\n",
    "\n",
    "# Add grades\n",
    "add_grade(\"101\", \"Math\", 85)\n",
    "add_grade(\"101\", \"Science\", 78)\n",
    "add_grade(\"102\", \"Math\", 92)\n",
    "add_grade(\"102\", \"Science\", 88)\n",
    "\n",
    "# Display all records\n",
    "display_all_students()\n"
   ]
  },
  {
   "cell_type": "code",
   "execution_count": null,
   "id": "50fa4880-2766-4ee2-a6da-0e8748c6a4e1",
   "metadata": {},
   "outputs": [],
   "source": []
  }
 ],
 "metadata": {
  "kernelspec": {
   "display_name": "Python 3 (ipykernel)",
   "language": "python",
   "name": "python3"
  },
  "language_info": {
   "codemirror_mode": {
    "name": "ipython",
    "version": 3
   },
   "file_extension": ".py",
   "mimetype": "text/x-python",
   "name": "python",
   "nbconvert_exporter": "python",
   "pygments_lexer": "ipython3",
   "version": "3.12.7"
  }
 },
 "nbformat": 4,
 "nbformat_minor": 5
}
