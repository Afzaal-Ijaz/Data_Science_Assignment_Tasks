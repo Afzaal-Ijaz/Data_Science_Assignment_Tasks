{
 "cells": [
  {
   "cell_type": "code",
   "execution_count": 1,
   "id": "bca7029a-49b3-4c69-9971-3e325a400c8b",
   "metadata": {},
   "outputs": [
    {
     "name": "stdout",
     "output_type": "stream",
     "text": [
      "[1, 2, 3, 4, 5]\n"
     ]
    }
   ],
   "source": [
    "#1. Write a Python program to create a list of 5 integers and print the list.\n",
    "lst1 = [1, 2, 3, 4, 5]\n",
    "print(lst1)"
   ]
  },
  {
   "cell_type": "code",
   "execution_count": 6,
   "id": "0d5614fd-fecc-4b95-b683-0fb564ac1eb2",
   "metadata": {},
   "outputs": [
    {
     "name": "stdin",
     "output_type": "stream",
     "text": [
      "Enter a list of numbers:  2 4 5 7 6 8\n"
     ]
    },
    {
     "name": "stdout",
     "output_type": "stream",
     "text": [
      "Max value from the list is:  8\n"
     ]
    }
   ],
   "source": [
    "#\t2. Write a Python function that takes a list of numbers and returns the maximum value.\n",
    "lst = list(map(int, input(\"Enter a list of numbers: \").split()))\n",
    "def max_value(lst):\n",
    "  return max(lst)\n",
    "\n",
    "print(\"Max value from the list is: \", max_value(lst))\n"
   ]
  },
  {
   "cell_type": "code",
   "execution_count": 7,
   "id": "c1cc504b-be72-4eaa-8523-63fe034105ed",
   "metadata": {},
   "outputs": [
    {
     "name": "stdout",
     "output_type": "stream",
     "text": [
      "Cherry\n",
      "Mango\n"
     ]
    }
   ],
   "source": [
    "#3. Create a list of fruits and print the second and last elements.\n",
    "fruit = [\"Apple\", \"Cherry\", \"Strawberry\", \"Peach\", \"Mango\"]\n",
    "print(fruit[1])\n",
    "print(fruit[-1])"
   ]
  },
  {
   "cell_type": "code",
   "execution_count": 8,
   "id": "ee8cbe13-5695-42d1-9a45-2ba7d673b403",
   "metadata": {},
   "outputs": [
    {
     "name": "stdout",
     "output_type": "stream",
     "text": [
      "List without duplicates:  [1, 2, 3, 4, 5, 6, 8]\n"
     ]
    }
   ],
   "source": [
    "#4. Write a program to remove all duplicates from a list.\n",
    "lst = [1, 2, 4, 8, 5, 3, 8, 1, 6, 4, 8]\n",
    "new_lst = list(set(lst))\n",
    "print(\"List without duplicates: \",new_lst)"
   ]
  },
  {
   "cell_type": "code",
   "execution_count": 9,
   "id": "c986cf39-2a55-4fb8-838c-3e65c9a7a2f9",
   "metadata": {},
   "outputs": [
    {
     "name": "stdin",
     "output_type": "stream",
     "text": [
      "Enter a list of numbers:  2 4 6 7 8\n"
     ]
    },
    {
     "name": "stdout",
     "output_type": "stream",
     "text": [
      "The sum of list elements is: 27 and average is: 5.4\n"
     ]
    }
   ],
   "source": [
    "#5. Write a Python program to find the sum and average of elements in a list.\n",
    "lst = list(map(int, input(\"Enter a list of numbers: \").split()))\n",
    "sum_value = sum(lst)\n",
    "average_value = sum(lst) / len(lst)\n",
    "print(f\"The sum of list elements is: {sum_value} and average is: {average_value}\")"
   ]
  },
  {
   "cell_type": "code",
   "execution_count": 10,
   "id": "8f0c617c-bddd-4be8-b5bd-151e59f856ba",
   "metadata": {},
   "outputs": [
    {
     "name": "stdin",
     "output_type": "stream",
     "text": [
      "Enter a list of numbers:  2 3 5 6 7 9\n"
     ]
    },
    {
     "name": "stdout",
     "output_type": "stream",
     "text": [
      "[4, 9, 25, 36, 49, 81]\n"
     ]
    }
   ],
   "source": [
    "#6. Given a list of numbers, write a program to square each number and store the result in a new list.\n",
    "lst = list(map(int, input(\"Enter a list of numbers: \").split()))\n",
    "new_lst = []\n",
    "for i in lst:\n",
    "  new_lst.append(i**2)\n",
    "print(new_lst)"
   ]
  },
  {
   "cell_type": "code",
   "execution_count": 11,
   "id": "95d318cb-8821-41f0-9275-abe53f5d9072",
   "metadata": {},
   "outputs": [
    {
     "name": "stdout",
     "output_type": "stream",
     "text": [
      "[5, 4, 3, 2, 1]\n"
     ]
    }
   ],
   "source": [
    "#7. Write a program to reverse a list without using built-in reverse() function.\n",
    "lst = [1, 2, 3, 4, 5]\n",
    "reverse_lst = lst[::-1]\n",
    "print(reverse_lst)"
   ]
  },
  {
   "cell_type": "code",
   "execution_count": 12,
   "id": "0f954237-972d-4269-9d26-cbc2be07ffd6",
   "metadata": {},
   "outputs": [
    {
     "name": "stdin",
     "output_type": "stream",
     "text": [
      "Enter the number that you want to search in the list:  4\n"
     ]
    },
    {
     "name": "stdout",
     "output_type": "stream",
     "text": [
      "Exist\n"
     ]
    }
   ],
   "source": [
    "#8. Check whether a specific item exists in a list or not.\n",
    "num = int(input(\"Enter the number that you want to search in the list: \"))\n",
    "lst = [2, 4, 6, 8, 10, 12, 16]\n",
    "if num in lst:\n",
    "  print(\"Exist\")\n",
    "else:\n",
    "  print(\"Not exist\")"
   ]
  },
  {
   "cell_type": "code",
   "execution_count": 13,
   "id": "2a553b24-a6c9-43be-86e1-e612631a6f60",
   "metadata": {},
   "outputs": [
    {
     "name": "stdout",
     "output_type": "stream",
     "text": [
      "1\n",
      "3\n",
      "6\n"
     ]
    }
   ],
   "source": [
    "#9. Create a tuple with 6 elements. Print the first, third, and last element.\n",
    "tuple1 = (1, 2, 3, 4, 5, 6)\n",
    "print(tuple1[0])\n",
    "print(tuple1[2])\n",
    "print(tuple1[-1])"
   ]
  },
  {
   "cell_type": "code",
   "execution_count": 14,
   "id": "77e34232-3a5d-4699-b39b-d6e8dd9e4497",
   "metadata": {},
   "outputs": [
    {
     "name": "stdout",
     "output_type": "stream",
     "text": [
      "(1, 2, 5, 7, 9)\n"
     ]
    }
   ],
   "source": [
    "#10. Write a Python program to convert a list into a tuple.\n",
    "lst = [1, 2, 5, 7, 9]\n",
    "tup = tuple(lst)\n",
    "print(tup)"
   ]
  },
  {
   "cell_type": "code",
   "execution_count": 15,
   "id": "5cb58170-3fa7-4577-9eb8-51ce6a17f1cd",
   "metadata": {},
   "outputs": [
    {
     "name": "stdout",
     "output_type": "stream",
     "text": [
      "3\n"
     ]
    }
   ],
   "source": [
    "#11. Write a program to count how many times an item appears in a tuple.\n",
    "my_tuple = (1, 2, 2, 3, 4, 2)\n",
    "count = my_tuple.count(2)\n",
    "print(count)  "
   ]
  },
  {
   "cell_type": "code",
   "execution_count": 16,
   "id": "fa4adee0-2ac8-4c9c-be0a-11a40c5aeab9",
   "metadata": {},
   "outputs": [
    {
     "name": "stdout",
     "output_type": "stream",
     "text": [
      "Max value is: 20 and Min value is: 1\n"
     ]
    }
   ],
   "source": [
    "#12. Given a tuple of numbers, write a program to find the minimum and maximum values.\n",
    "tup = (1, 2, 8, 9, 10, 17, 19, 20, 6, 3)\n",
    "max_num = max(tup)\n",
    "min_num = min(tup)\n",
    "print(f\"Max value is: {max_num} and Min value is: {min_num}\")"
   ]
  },
  {
   "cell_type": "code",
   "execution_count": 17,
   "id": "6aecf411-0c26-4674-98ba-8f81fc8a8ff6",
   "metadata": {},
   "outputs": [
    {
     "ename": "TypeError",
     "evalue": "'tuple' object does not support item assignment",
     "output_type": "error",
     "traceback": [
      "\u001b[1;31m---------------------------------------------------------------------------\u001b[0m",
      "\u001b[1;31mTypeError\u001b[0m                                 Traceback (most recent call last)",
      "Cell \u001b[1;32mIn[17], line 3\u001b[0m\n\u001b[0;32m      1\u001b[0m \u001b[38;5;66;03m#13. Create a tuple of student names. Try modifying one element and observe the error.\u001b[39;00m\n\u001b[0;32m      2\u001b[0m tup \u001b[38;5;241m=\u001b[39m (\u001b[38;5;124m\"\u001b[39m\u001b[38;5;124mAli\u001b[39m\u001b[38;5;124m\"\u001b[39m, \u001b[38;5;124m\"\u001b[39m\u001b[38;5;124mSalman\u001b[39m\u001b[38;5;124m\"\u001b[39m,\u001b[38;5;124m\"\u001b[39m\u001b[38;5;124mBilawal\u001b[39m\u001b[38;5;124m\"\u001b[39m,\u001b[38;5;124m\"\u001b[39m\u001b[38;5;124mAmna\u001b[39m\u001b[38;5;124m\"\u001b[39m, \u001b[38;5;124m\"\u001b[39m\u001b[38;5;124mKamran\u001b[39m\u001b[38;5;124m\"\u001b[39m)\n\u001b[1;32m----> 3\u001b[0m tup[\u001b[38;5;241m0\u001b[39m] \u001b[38;5;241m=\u001b[39m \u001b[38;5;124m\"\u001b[39m\u001b[38;5;124mSaira\u001b[39m\u001b[38;5;124m\"\u001b[39m\n\u001b[0;32m      4\u001b[0m \u001b[38;5;28mprint\u001b[39m(tup)\n",
      "\u001b[1;31mTypeError\u001b[0m: 'tuple' object does not support item assignment"
     ]
    }
   ],
   "source": [
    "#13. Create a tuple of student names. Try modifying one element and observe the error.\n",
    "tup = (\"Ali\", \"Salman\",\"Bilawal\",\"Amna\", \"Kamran\")\n",
    "tup[0] = \"Saira\"\n",
    "print(tup)"
   ]
  },
  {
   "cell_type": "code",
   "execution_count": 18,
   "id": "7aa6b6d0-efbc-485b-a19c-87c22bbb558d",
   "metadata": {},
   "outputs": [
    {
     "name": "stdout",
     "output_type": "stream",
     "text": [
      "[1, 2, 3, 4, 5, 6]\n"
     ]
    }
   ],
   "source": [
    "#14. Write a program that merges two lists into one and removes duplicates.\n",
    "list1 = [1, 2, 3, 4]\n",
    "list2 = [3, 4, 5, 6]\n",
    "merged = list(set(list1 + list2))\n",
    "print(merged)  "
   ]
  },
  {
   "cell_type": "code",
   "execution_count": 19,
   "id": "284659c4-ed90-4e05-8eb8-825af6e85f28",
   "metadata": {},
   "outputs": [
    {
     "name": "stdout",
     "output_type": "stream",
     "text": [
      "Second Largest num is:  27\n"
     ]
    }
   ],
   "source": [
    "#15. Given a list of numbers, write a program to find the second largest number.\n",
    "lst = [2, 10, 27 , 19, 34, 0, 18]\n",
    "lst.sort()\n",
    "print(\"Second Largest num is: \",lst[-2])"
   ]
  },
  {
   "cell_type": "code",
   "execution_count": null,
   "id": "e737b47d-616d-4bef-a852-6a99b38776c1",
   "metadata": {},
   "outputs": [],
   "source": []
  }
 ],
 "metadata": {
  "kernelspec": {
   "display_name": "Python 3 (ipykernel)",
   "language": "python",
   "name": "python3"
  },
  "language_info": {
   "codemirror_mode": {
    "name": "ipython",
    "version": 3
   },
   "file_extension": ".py",
   "mimetype": "text/x-python",
   "name": "python",
   "nbconvert_exporter": "python",
   "pygments_lexer": "ipython3",
   "version": "3.12.7"
  }
 },
 "nbformat": 4,
 "nbformat_minor": 5
}
