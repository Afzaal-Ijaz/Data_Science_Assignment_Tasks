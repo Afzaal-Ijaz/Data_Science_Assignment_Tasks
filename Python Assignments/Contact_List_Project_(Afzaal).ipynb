{
 "cells": [
  {
   "cell_type": "markdown",
   "id": "730f7b36-2496-4f33-956f-3d8bea261404",
   "metadata": {},
   "source": [
    "## Contact Book Project"
   ]
  },
  {
   "cell_type": "code",
   "execution_count": 6,
   "id": "be69d222-6409-4ee5-a082-f2387c4fbf08",
   "metadata": {},
   "outputs": [],
   "source": [
    "class Contact:                                                      #define Contact class\n",
    "    def __init__(self,name,contact,email):                          #constructor to add detail\n",
    "        self.name = name\n",
    "        self.contact = contact\n",
    "        self.email = email \n",
    "\n",
    "    def __str__(self):\n",
    "        return f' Name: {self.name} , Contact: {self.contact} , Email: {self.email}'\n"
   ]
  },
  {
   "cell_type": "code",
   "execution_count": 7,
   "id": "aaf43cc7-bc5d-4127-b9d3-206106636efd",
   "metadata": {},
   "outputs": [],
   "source": [
    "class ContactBook:                                                    #define ContactBook class\n",
    "    def __init__(self):                                               #Constructor to a make list\n",
    "        self.contacts = []\n",
    "\n",
    "    def add_contact(self, contact):                                   #method to add contact\n",
    "        self.contacts.append(contact)\n",
    "\n",
    "    def remove_contact(self, name):                                   #method to remove contact\n",
    "        for contact in self.contacts:\n",
    "            if contact.name == name:\n",
    "               self.contacts.remove(contact)\n",
    "\n",
    "    \n",
    "    def search_contact(self, name):                                   # method to search contact\n",
    "        for contact in self.contacts:\n",
    "            if contact.name == name:\n",
    "               return contact\n",
    "        return None\n",
    "\n",
    "    \n",
    "    def display_contact(self):                                       #method to display all contact\n",
    "        for contact in self.contacts:\n",
    "           print(contact)"
   ]
  },
  {
   "cell_type": "code",
   "execution_count": 8,
   "id": "77eb61be-af1a-4b8c-ba29-c1a123c1f294",
   "metadata": {},
   "outputs": [
    {
     "name": "stdout",
     "output_type": "stream",
     "text": [
      "\n",
      " Contact Book Menu:\n",
      "1. Add Contact\n",
      "2. Delete Contact\n",
      "3. Search Contact\n",
      "4. Disaplay all contact\n",
      "5. Quit\n"
     ]
    },
    {
     "name": "stdin",
     "output_type": "stream",
     "text": [
      "Enter your choice: 1\n",
      "Enter the name: Ali\n",
      "Enter the phone number: 03028204234234\n",
      "Enter the email: abc@gmail.com\n"
     ]
    },
    {
     "name": "stdout",
     "output_type": "stream",
     "text": [
      "Contact added\n",
      "\n",
      " Contact Book Menu:\n",
      "1. Add Contact\n",
      "2. Delete Contact\n",
      "3. Search Contact\n",
      "4. Disaplay all contact\n",
      "5. Quit\n"
     ]
    },
    {
     "name": "stdin",
     "output_type": "stream",
     "text": [
      "Enter your choice: 1\n",
      "Enter the name: Usman\n",
      "Enter the phone number: 033483934922\n",
      "Enter the email: xyz@gmail.com\n"
     ]
    },
    {
     "name": "stdout",
     "output_type": "stream",
     "text": [
      "Contact added\n",
      "\n",
      " Contact Book Menu:\n",
      "1. Add Contact\n",
      "2. Delete Contact\n",
      "3. Search Contact\n",
      "4. Disaplay all contact\n",
      "5. Quit\n"
     ]
    },
    {
     "name": "stdin",
     "output_type": "stream",
     "text": [
      "Enter your choice: 3\n",
      "Enter the name to search: Ali\n"
     ]
    },
    {
     "name": "stdout",
     "output_type": "stream",
     "text": [
      "Contact found:\n",
      " Name: Ali , Contact: 03028204234234 , Email: abc@gmail.com\n",
      "\n",
      " Contact Book Menu:\n",
      "1. Add Contact\n",
      "2. Delete Contact\n",
      "3. Search Contact\n",
      "4. Disaplay all contact\n",
      "5. Quit\n"
     ]
    },
    {
     "name": "stdin",
     "output_type": "stream",
     "text": [
      "Enter your choice: 4\n"
     ]
    },
    {
     "name": "stdout",
     "output_type": "stream",
     "text": [
      "\n",
      " All Contacts\n",
      " Name: Ali , Contact: 03028204234234 , Email: abc@gmail.com\n",
      " Name: Usman , Contact: 033483934922 , Email: xyz@gmail.com\n",
      "\n",
      " Contact Book Menu:\n",
      "1. Add Contact\n",
      "2. Delete Contact\n",
      "3. Search Contact\n",
      "4. Disaplay all contact\n",
      "5. Quit\n"
     ]
    },
    {
     "name": "stdin",
     "output_type": "stream",
     "text": [
      "Enter your choice: 5\n"
     ]
    },
    {
     "name": "stdout",
     "output_type": "stream",
     "text": [
      "GoodBye!\n"
     ]
    }
   ],
   "source": [
    "def main():\n",
    "    contact_book = ContactBook()                                      # create an object of ContactBook class\n",
    "\n",
    "    while True:\n",
    "        print(\"\\n Contact Book Menu:\")                                # while loop to take input from user \n",
    "        print(\"1. Add Contact\")\n",
    "        print(\"2. Delete Contact\")\n",
    "        print(\"3. Search Contact\")\n",
    "        print(\"4. Disaplay all contact\")\n",
    "        print(\"5. Quit\")\n",
    "\n",
    "        choice = int(input(\"Enter your choice:\"))\n",
    "                                                                     # if- else statements \n",
    "        if choice == 1:\n",
    "            name = input(\"Enter the name:\")\n",
    "            phone = input(\"Enter the phone number:\")\n",
    "            email = input(\"Enter the email:\")\n",
    "            contact =Contact(name, phone, email)\n",
    "            contact_book.add_contact(contact)\n",
    "            print(\"Contact added\")\n",
    "\n",
    "        elif choice == 2:\n",
    "            name = input(\"Enter the name of contact to delete:\")\n",
    "            contact_book.delete_contact(name)\n",
    "            print(\"Contact Deleted\")\n",
    "       \n",
    "        elif choice == 3:\n",
    "            name = input(\"Enter the name to search:\")\n",
    "            contact = contact_book.search_contact(name)\n",
    "            if contact:\n",
    "               print(\"Contact found:\")\n",
    "               print(contact)\n",
    "            else:\n",
    "               print(\"Contact not found\") \n",
    "\n",
    "        elif choice == 4:\n",
    "             print(\"\\n All Contacts\")\n",
    "             contact_book.display_contact()\n",
    "\n",
    "\n",
    "        elif choice == 5:\n",
    "             print(\"GoodBye!\")\n",
    "             break\n",
    "\n",
    "        else:\n",
    "            print(\"Invalid choice.\")\n",
    "   \n",
    "if __name__ == \"__main__\":\n",
    "    main()"
   ]
  },
  {
   "cell_type": "code",
   "execution_count": null,
   "id": "dbdf9618-4ebd-4cfd-8eb3-7b9631e730ea",
   "metadata": {},
   "outputs": [],
   "source": []
  },
  {
   "cell_type": "code",
   "execution_count": null,
   "id": "823fa51e-8249-47b5-a72c-fe0defb9be91",
   "metadata": {},
   "outputs": [],
   "source": []
  }
 ],
 "metadata": {
  "kernelspec": {
   "display_name": "Python 3 (ipykernel)",
   "language": "python",
   "name": "python3"
  },
  "language_info": {
   "codemirror_mode": {
    "name": "ipython",
    "version": 3
   },
   "file_extension": ".py",
   "mimetype": "text/x-python",
   "name": "python",
   "nbconvert_exporter": "python",
   "pygments_lexer": "ipython3",
   "version": "3.12.7"
  }
 },
 "nbformat": 4,
 "nbformat_minor": 5
}
