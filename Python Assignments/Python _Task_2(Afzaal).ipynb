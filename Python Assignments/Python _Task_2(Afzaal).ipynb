{
 "cells": [
  {
   "cell_type": "markdown",
   "id": "a5170848-0a83-4f33-8e46-d0f24afcfa85",
   "metadata": {},
   "source": [
    "Day-2"
   ]
  },
  {
   "cell_type": "code",
   "execution_count": 4,
   "id": "8ce5c8ae-e2a9-4848-86f0-d5d7b1413a32",
   "metadata": {},
   "outputs": [
    {
     "name": "stdout",
     "output_type": "stream",
     "text": [
      "Afzaal Ijaz\n"
     ]
    }
   ],
   "source": [
    "# Q1. Assign your name to a variable andd print it \n",
    "name = 'Afzaal Ijaz'\n",
    "print(name)"
   ]
  },
  {
   "cell_type": "code",
   "execution_count": 6,
   "id": "6a502df1-e999-4a16-8924-0baf29f0cd4a",
   "metadata": {},
   "outputs": [
    {
     "name": "stdout",
     "output_type": "stream",
     "text": [
      "a = 10 b = 5\n"
     ]
    }
   ],
   "source": [
    "# Q2. Swap two numbers and print \n",
    "a = 5\n",
    "b = 10\n",
    "a, b = b, a\n",
    "print('a =', a, 'b =', b)"
   ]
  },
  {
   "cell_type": "code",
   "execution_count": 7,
   "id": "48a3e771-3c44-4086-893c-e3b6dee46a94",
   "metadata": {},
   "outputs": [
    {
     "name": "stdout",
     "output_type": "stream",
     "text": [
      "10 20 30\n"
     ]
    }
   ],
   "source": [
    "# Q3. Assign valuse to three variables in a single line and print \n",
    "a, b, c = 10, 20, 30\n",
    "print(a, b, c)"
   ]
  },
  {
   "cell_type": "code",
   "execution_count": 8,
   "id": "f5eff63c-d9dc-456f-8c64-2e866b302ea8",
   "metadata": {},
   "outputs": [
    {
     "name": "stdout",
     "output_type": "stream",
     "text": [
      "15\n"
     ]
    }
   ],
   "source": [
    "# Q4. Output of the code is\n",
    "x = 10\n",
    "y = x + 5\n",
    "print(y)"
   ]
  },
  {
   "cell_type": "code",
   "execution_count": 10,
   "id": "312e1082-333e-41e2-bbfd-bd85925f06b9",
   "metadata": {},
   "outputs": [
    {
     "name": "stdin",
     "output_type": "stream",
     "text": [
      "Enter your name:  Afzaal\n",
      "Enter your age:  20\n"
     ]
    },
    {
     "name": "stdout",
     "output_type": "stream",
     "text": [
      "Afzaal is 20 years old\n"
     ]
    }
   ],
   "source": [
    "# Q5. Take user name and age as input and print them in single line\n",
    "name = input('Enter your name: ')\n",
    "age = input('Enter your age: ')\n",
    "print(f'{name} is {age} years old')"
   ]
  },
  {
   "cell_type": "code",
   "execution_count": 11,
   "id": "a63039df-5dbb-4ea4-b967-4bd0f94c10b4",
   "metadata": {},
   "outputs": [
    {
     "name": "stdout",
     "output_type": "stream",
     "text": [
      "['if', 'else', 'for', 'return', 'def']\n"
     ]
    }
   ],
   "source": [
    "# Q6. What is keywords\n",
    "# Keywords are reserved words in Python.\n",
    "# They cannot be used as variable names.\n",
    "keywords_list = ['if', 'else', 'for', 'return', 'def']\n",
    "print(keywords_list)"
   ]
  },
  {
   "cell_type": "code",
   "execution_count": 12,
   "id": "9112f62f-248a-4d0c-87cf-d731266d1124",
   "metadata": {},
   "outputs": [],
   "source": [
    "# Q7. class,def and if can be used as a variable name?\n",
    "# No, 'class', 'def', and 'for' cannot be used as variable names because they are Python keywords."
   ]
  },
  {
   "cell_type": "code",
   "execution_count": 13,
   "id": "8abdc86d-d837-4a4c-82cc-2ab0ccb49b4b",
   "metadata": {},
   "outputs": [
    {
     "name": "stdin",
     "output_type": "stream",
     "text": [
      "Enter a number:  20\n"
     ]
    },
    {
     "name": "stdout",
     "output_type": "stream",
     "text": [
      "Positive\n"
     ]
    }
   ],
   "source": [
    "# Q8. Use if, elif and else \n",
    "num = int(input('Enter a number: '))\n",
    "if num > 0:\n",
    "    print('Positive')\n",
    "elif num < 0:\n",
    "    print('Negative')\n",
    "else:\n",
    "    print('Zero')"
   ]
  },
  {
   "cell_type": "code",
   "execution_count": 14,
   "id": "96dfd8d8-9617-40a9-bcac-48cecd461bb1",
   "metadata": {},
   "outputs": [],
   "source": [
    "# Q9.\n",
    "# Keyword in this code is 'def'"
   ]
  },
  {
   "cell_type": "code",
   "execution_count": 18,
   "id": "24be13b2-da79-4fbb-9d7e-13a63e8525e8",
   "metadata": {},
   "outputs": [
    {
     "name": "stdout",
     "output_type": "stream",
     "text": [
      "False\n"
     ]
    }
   ],
   "source": [
    "# Q10. Program using True and False\n",
    "x = 2\n",
    "y = 5\n",
    "if x > y:\n",
    "    print(True)\n",
    "else:\n",
    "    print(False)"
   ]
  },
  {
   "cell_type": "code",
   "execution_count": 26,
   "id": "1bbcbecb-99be-4f9f-8a71-4fed154cb24a",
   "metadata": {},
   "outputs": [
    {
     "name": "stdout",
     "output_type": "stream",
     "text": [
      "100 2.5 Naruto True [1, 2, 3]\n"
     ]
    }
   ],
   "source": [
    "# Q11. Declare variables of different data types\n",
    "integer = 100\n",
    "floatt = 2.5\n",
    "string = 'Naruto'\n",
    "boolen = True\n",
    "listt = [1, 2, 3]\n",
    "print(integer, floatt, string, boolen, listt)"
   ]
  },
  {
   "cell_type": "code",
   "execution_count": 27,
   "id": "332db6b8-bdc3-4cd2-a597-76e2f02bd2ae",
   "metadata": {},
   "outputs": [
    {
     "name": "stdout",
     "output_type": "stream",
     "text": [
      "8.0 <class 'float'>\n"
     ]
    }
   ],
   "source": [
    "# Q12. output\n",
    "x = 5.0 + 3\n",
    "print(x, type(x))"
   ]
  },
  {
   "cell_type": "code",
   "execution_count": 28,
   "id": "19fdeb00-2fb0-4fb6-819d-e0c5258e0c84",
   "metadata": {},
   "outputs": [
    {
     "name": "stdout",
     "output_type": "stream",
     "text": [
      "130\n"
     ]
    }
   ],
   "source": [
    "# Q13. Convert \"123\" into integer and add 7\n",
    "num = int('123') + 7\n",
    "print(num)"
   ]
  },
  {
   "cell_type": "code",
   "execution_count": 29,
   "id": "e92fb686-bfe2-4f73-be30-f8e81b9b64b4",
   "metadata": {},
   "outputs": [
    {
     "name": "stdout",
     "output_type": "stream",
     "text": [
      "True\n"
     ]
    }
   ],
   "source": [
    "# Q14. Check a=5 is int or not  \n",
    "a = 5\n",
    "print(isinstance(a, int))"
   ]
  },
  {
   "cell_type": "code",
   "execution_count": 30,
   "id": "903e25f8-e351-48f0-b589-994f39049897",
   "metadata": {},
   "outputs": [
    {
     "name": "stdin",
     "output_type": "stream",
     "text": [
      "Enter first number:  30\n",
      "Enter second number:  20\n"
     ]
    },
    {
     "name": "stdout",
     "output_type": "stream",
     "text": [
      "The sum is: 50\n"
     ]
    }
   ],
   "source": [
    "# Q15. Take two numbers and add them\n",
    "num1 = int(input('Enter first number: '))\n",
    "num2 = int(input('Enter second number: '))\n",
    "sum = num1 + num2\n",
    "print(f'The sum is: {sum}')"
   ]
  },
  {
   "cell_type": "code",
   "execution_count": null,
   "id": "13aa276c-dac6-437d-9be2-bc1cb8ed8b78",
   "metadata": {},
   "outputs": [],
   "source": []
  }
 ],
 "metadata": {
  "kernelspec": {
   "display_name": "Python 3 (ipykernel)",
   "language": "python",
   "name": "python3"
  },
  "language_info": {
   "codemirror_mode": {
    "name": "ipython",
    "version": 3
   },
   "file_extension": ".py",
   "mimetype": "text/x-python",
   "name": "python",
   "nbconvert_exporter": "python",
   "pygments_lexer": "ipython3",
   "version": "3.12.7"
  }
 },
 "nbformat": 4,
 "nbformat_minor": 5
}
