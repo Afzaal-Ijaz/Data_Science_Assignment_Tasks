{
 "cells": [
  {
   "cell_type": "code",
   "execution_count": 2,
   "id": "d192479e-d833-4ef4-99a1-bd7216b82e48",
   "metadata": {},
   "outputs": [
    {
     "name": "stdin",
     "output_type": "stream",
     "text": [
      "Enter Your Name:  Afzaal\n",
      "Enter Your Age:  20\n"
     ]
    },
    {
     "name": "stdout",
     "output_type": "stream",
     "text": [
      "Hello Afzaal, you are 20 years old\n"
     ]
    }
   ],
   "source": [
    "#Q1.Write a Python program that asks the user for their name and age, then prints a message like: \"Hello Alice, you are 25 years old.\"\n",
    "name = input(\"Enter Your Name: \")\n",
    "age = int(input(\"Enter Your Age: \"))\n",
    "\n",
    "print(f\"Hello {name}, you are {age} years old\")"
   ]
  },
  {
   "cell_type": "code",
   "execution_count": null,
   "id": "e35947a7-86e5-453f-a5ec-bca77525a4f5",
   "metadata": {},
   "outputs": [],
   "source": [
    "# Q2.What is the data type returned by the input() function?\n",
    "\n",
    "input() function always enter values as string but we can add spcific datatype manually.\n",
    "for example int(input(....))"
   ]
  },
  {
   "cell_type": "code",
   "execution_count": 4,
   "id": "18c24261-8e82-40e2-846b-d0bb0858eb23",
   "metadata": {},
   "outputs": [
    {
     "name": "stdin",
     "output_type": "stream",
     "text": [
      "Enter a number: 10\n"
     ]
    },
    {
     "name": "stdout",
     "output_type": "stream",
     "text": [
      "15\n"
     ]
    }
   ],
   "source": [
    "#Q3. How to get a number and add it to a number\n",
    "\n",
    "y = 5 + x\n",
    "print(y)"
   ]
  },
  {
   "cell_type": "code",
   "execution_count": 5,
   "id": "9f6f80e5-6522-44e0-b134-23c20053c368",
   "metadata": {},
   "outputs": [
    {
     "name": "stdout",
     "output_type": "stream",
     "text": [
      "16\n"
     ]
    }
   ],
   "source": [
    "#Q4. Output of print(10 + 3 * 2)\n",
    "print(10+3*2)"
   ]
  },
  {
   "cell_type": "code",
   "execution_count": 7,
   "id": "6a99ce49-8d1b-4c84-957e-8c231db6fa1e",
   "metadata": {},
   "outputs": [
    {
     "name": "stdin",
     "output_type": "stream",
     "text": [
      "Enter first number: 20\n",
      "Enter second number: 10\n"
     ]
    },
    {
     "name": "stdout",
     "output_type": "stream",
     "text": [
      "sum = 30\n",
      "difference = 10\n",
      "multiplication = 200\n",
      "division = 2.0\n",
      "remainder = 0\n"
     ]
    }
   ],
   "source": [
    "#Q5. Write a program to show sum ,difference,multiplication and division of two numbers\n",
    "a = int(input(\"Enter first number:\"))\n",
    "b = int(input(\"Enter second number:\"))\n",
    "\n",
    "print(\"sum =\",a+b)\n",
    "print(\"difference =\",a-b)\n",
    "print(\"multiplication =\",a*b)\n",
    "print(\"division =\",a/b)\n",
    "print(\"remainder =\",a%b)"
   ]
  },
  {
   "cell_type": "code",
   "execution_count": 8,
   "id": "3d96578b-9ebf-445e-955a-22ca5453c006",
   "metadata": {},
   "outputs": [
    {
     "name": "stdout",
     "output_type": "stream",
     "text": [
      "False\n"
     ]
    }
   ],
   "source": [
    "#Q6. Output\n",
    "a = 15 > 10 and 10 < 5\n",
    "print(a)"
   ]
  },
  {
   "cell_type": "code",
   "execution_count": 9,
   "id": "80b6c618-ced4-4a8f-a01e-feb1438b9bb4",
   "metadata": {},
   "outputs": [
    {
     "name": "stdin",
     "output_type": "stream",
     "text": [
      "Enter First Number:  40\n",
      "Enter second Number:  60\n"
     ]
    },
    {
     "name": "stdout",
     "output_type": "stream",
     "text": [
      "Second number is greater number\n"
     ]
    }
   ],
   "source": [
    "#Q7. Compare two numbers \n",
    "num1 = int(input(\"Enter First Number: \"))\n",
    "num2 = int(input(\"Enter second Number: \"))\n",
    "\n",
    "if (num1 == num2):\n",
    "  print(\"Both numbers are euqal\")\n",
    "\n",
    "elif (num1 > num2):\n",
    "  print(\"First number is greater number\")\n",
    "\n",
    "else:\n",
    "  print(\"Second number is greater number\")\n"
   ]
  },
  {
   "cell_type": "code",
   "execution_count": 10,
   "id": "0e044b75-0a52-4255-83ea-2ac1a6f008a8",
   "metadata": {},
   "outputs": [
    {
     "name": "stdout",
     "output_type": "stream",
     "text": [
      "16\n"
     ]
    }
   ],
   "source": [
    "#Q&. OutPut \n",
    "a = 5\n",
    "a += 3\n",
    "a *= 2\n",
    "print(a)"
   ]
  },
  {
   "cell_type": "code",
   "execution_count": 11,
   "id": "a8c08c5c-837b-4887-b6e4-517d0107a8b2",
   "metadata": {},
   "outputs": [
    {
     "name": "stdin",
     "output_type": "stream",
     "text": [
      "Enter a number:  40\n"
     ]
    },
    {
     "name": "stdout",
     "output_type": "stream",
     "text": [
      "50\n"
     ]
    }
   ],
   "source": [
    "#Q9 Program to increase a number by 10\n",
    "number = int(input(\"Enter a number: \"))\n",
    "number += 10\n",
    "print(number)"
   ]
  },
  {
   "cell_type": "code",
   "execution_count": 12,
   "id": "000f8ff2-f1c8-4dcd-8a9e-60a1a19aba4c",
   "metadata": {},
   "outputs": [
    {
     "name": "stdout",
     "output_type": "stream",
     "text": [
      "True\n"
     ]
    }
   ],
   "source": [
    "#Q10. Output of the code\n",
    "x = 5\n",
    "print(x > 3 and x < 10)"
   ]
  },
  {
   "cell_type": "code",
   "execution_count": null,
   "id": "6047e4c6-eb70-468a-936b-5648c3e9ad62",
   "metadata": {},
   "outputs": [],
   "source": [
    "#Q11. Difference between AND and OR\n",
    "\n",
    "and:- \n",
    "    Return true only if both condition are true\n",
    "or:- \n",
    "    Return true if at least one condition is true "
   ]
  },
  {
   "cell_type": "code",
   "execution_count": null,
   "id": "5968eb69-d09d-4d60-975f-1273813a05f8",
   "metadata": {},
   "outputs": [],
   "source": [
    "#Q12. What is the difference between == and is in Python?\n",
    "\n",
    "'==' identifies if the 2 variables have same content \n",
    "\n",
    "'is' identifies if the 2 variables have same memory location "
   ]
  },
  {
   "cell_type": "code",
   "execution_count": 17,
   "id": "28f562d1-28c4-47a6-ac63-7ed0cb99cb6c",
   "metadata": {},
   "outputs": [
    {
     "name": "stdout",
     "output_type": "stream",
     "text": [
      "True\n",
      "False\n"
     ]
    }
   ],
   "source": [
    "#Q13.\n",
    "x = [1, 2, 3]\n",
    "y = [1, 2, 3]\n",
    "print(x == y)\n",
    "print(x is y)\n",
    "\n",
    "#  x == y is true because content of both variables are same\n",
    "#  x is y fasle becausee both point different memory locations "
   ]
  },
  {
   "cell_type": "code",
   "execution_count": 19,
   "id": "4a4b01a8-844a-4ca9-b70b-f82d0d8fade9",
   "metadata": {},
   "outputs": [
    {
     "name": "stdout",
     "output_type": "stream",
     "text": [
      "yes\n"
     ]
    }
   ],
   "source": [
    "#Q14. character a is present in word?\n",
    "fruit = \"banana\"\n",
    "if 'a' in fruit:\n",
    "    print(\"yes\")\n"
   ]
  },
  {
   "cell_type": "code",
   "execution_count": 13,
   "id": "9fd0f9d5-9ba5-4935-a976-25b1a2bc7db8",
   "metadata": {},
   "outputs": [
    {
     "name": "stdout",
     "output_type": "stream",
     "text": [
      "1\n"
     ]
    }
   ],
   "source": [
    "#Q15. what is the result of bitwise AND \n",
    " # 5 = 0101\n",
    " # 3 = 0101  \n",
    "bit = 5 & 3\n",
    "print(bit)"
   ]
  },
  {
   "cell_type": "code",
   "execution_count": null,
   "id": "ebd7f768-972d-44f5-ac44-5c189f8286da",
   "metadata": {},
   "outputs": [],
   "source": []
  }
 ],
 "metadata": {
  "kernelspec": {
   "display_name": "Python 3 (ipykernel)",
   "language": "python",
   "name": "python3"
  },
  "language_info": {
   "codemirror_mode": {
    "name": "ipython",
    "version": 3
   },
   "file_extension": ".py",
   "mimetype": "text/x-python",
   "name": "python",
   "nbconvert_exporter": "python",
   "pygments_lexer": "ipython3",
   "version": "3.12.7"
  }
 },
 "nbformat": 4,
 "nbformat_minor": 5
}
