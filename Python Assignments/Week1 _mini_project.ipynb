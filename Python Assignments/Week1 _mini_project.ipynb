{
 "cells": [
  {
   "cell_type": "code",
   "execution_count": null,
   "id": "40acc187-9ca4-40b8-a132-7278e00786db",
   "metadata": {},
   "outputs": [
    {
     "name": "stdout",
     "output_type": "stream",
     "text": [
      "Welcome to your Personal Finance Management System\n",
      "Enter 1 to add income\n",
      "Enter 2 to add expense\n",
      "Enter 3 to view transactions history\n",
      "Enter 4 to view current balance\n",
      "Enter 5 to if you want to exit\n"
     ]
    },
    {
     "name": "stdin",
     "output_type": "stream",
     "text": [
      "Enter your choice: 6\n"
     ]
    },
    {
     "name": "stdout",
     "output_type": "stream",
     "text": [
      "Invalid! Please enter a number from 1 to 5.\n",
      "Enter 1 to add income\n",
      "Enter 2 to add expense\n",
      "Enter 3 to view transactions history\n",
      "Enter 4 to view current balance\n",
      "Enter 5 to if you want to exit\n"
     ]
    },
    {
     "name": "stdin",
     "output_type": "stream",
     "text": [
      "Enter your choice: 3\n"
     ]
    },
    {
     "name": "stdout",
     "output_type": "stream",
     "text": [
      "No Transaction History to show\n",
      "Enter 1 to add income\n",
      "Enter 2 to add expense\n",
      "Enter 3 to view transactions history\n",
      "Enter 4 to view current balance\n",
      "Enter 5 to if you want to exit\n"
     ]
    },
    {
     "name": "stdin",
     "output_type": "stream",
     "text": [
      "Enter your choice: 1\n",
      "Enter Your Income:  45000\n"
     ]
    },
    {
     "name": "stdout",
     "output_type": "stream",
     "text": [
      "Enter 1 to add income\n",
      "Enter 2 to add expense\n",
      "Enter 3 to view transactions history\n",
      "Enter 4 to view current balance\n",
      "Enter 5 to if you want to exit\n"
     ]
    },
    {
     "name": "stdin",
     "output_type": "stream",
     "text": [
      "Enter your choice: 2\n",
      "Enter Your Expense:  40000\n"
     ]
    },
    {
     "name": "stdout",
     "output_type": "stream",
     "text": [
      "Enter 1 to add income\n",
      "Enter 2 to add expense\n",
      "Enter 3 to view transactions history\n",
      "Enter 4 to view current balance\n",
      "Enter 5 to if you want to exit\n"
     ]
    },
    {
     "name": "stdin",
     "output_type": "stream",
     "text": [
      "Enter your choice: 4\n"
     ]
    },
    {
     "name": "stdout",
     "output_type": "stream",
     "text": [
      "Your Balance is:  5000\n",
      "Enter 1 to add income\n",
      "Enter 2 to add expense\n",
      "Enter 3 to view transactions history\n",
      "Enter 4 to view current balance\n",
      "Enter 5 to if you want to exit\n"
     ]
    }
   ],
   "source": [
    "print(\"Welcome to your Personal Finance Management System\")\n",
    "\n",
    "balance = 0                                                  #variable to store balance\n",
    "transactions = []                                            #list to maake record of transactions\n",
    "\n",
    "while True:\n",
    "  print(\"Enter 1 to add income\")\n",
    "  print(\"Enter 2 to add expense\")\n",
    "  print(\"Enter 3 to view transactions history\")\n",
    "  print(\"Enter 4 to view current balance\")\n",
    "  print(\"Enter 5 to if you want to exit\")\n",
    "  choice = int(input(\"Enter your choice:\"))                #take number from user to perform operation\n",
    "\n",
    "  if (choice == 1):                                        #if choice is 1 then users enter their income  \n",
    "    income = int(input(\"Enter Your Income: \"))\n",
    "    balance += income\n",
    "    transactions.append(\"Income: \" + str(income))\n",
    "\n",
    "  elif (choice == 2):                                     #if choice is 2 then users enter their expense  \n",
    "    expense = int(input(\"Enter Your Expense: \"))          \n",
    "    balance -= expense\n",
    "    transactions.append(\"Expense:  \" + str(expense))\n",
    "\n",
    "  elif (choice == 3):                                    #if choice is 3 then users can see their history  \n",
    "    if len(transactions) == 0:                          \n",
    "      print(\"No Transaction History to show\")\n",
    "    else:\n",
    "      print(\"Transaction History is given below: \")\n",
    "      for i in transactions:\n",
    "        print(i)\n",
    "\n",
    "  elif (choice == 4):                                  #if choice is 4 then users enter their current balance  \n",
    "    print(\"Your Balance is: \", balance)\n",
    "\n",
    "  elif (choice == 5):                                  #if choice is 5 then users want to exit \n",
    "    break\n",
    "\n",
    "  else:\n",
    "    print(\"Invalid! Please enter a number from 1 to 5.\")\n"
   ]
  },
  {
   "cell_type": "code",
   "execution_count": null,
   "id": "0f3482ed-5860-440e-8e39-a76fd75ad7f5",
   "metadata": {},
   "outputs": [],
   "source": []
  }
 ],
 "metadata": {
  "kernelspec": {
   "display_name": "Python 3 (ipykernel)",
   "language": "python",
   "name": "python3"
  },
  "language_info": {
   "codemirror_mode": {
    "name": "ipython",
    "version": 3
   },
   "file_extension": ".py",
   "mimetype": "text/x-python",
   "name": "python",
   "nbconvert_exporter": "python",
   "pygments_lexer": "ipython3",
   "version": "3.12.7"
  }
 },
 "nbformat": 4,
 "nbformat_minor": 5
}
