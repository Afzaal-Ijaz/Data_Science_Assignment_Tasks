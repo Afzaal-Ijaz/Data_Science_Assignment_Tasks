{
 "cells": [
  {
   "cell_type": "code",
   "execution_count": null,
   "id": "6e7f189a-6675-4c00-8379-6f931b4d75f3",
   "metadata": {},
   "outputs": [],
   "source": [
    "1.\tWrite a Python program to merge two dictionaries into one.\n",
    "2.\tHow can you check if a key exists in a dictionary?\n",
    "3.\tRemove a key-value pair from a dictionary using a method.\n",
    "4.\tUse a dictionary method to return the value for a given key, or a default value if the key is not present.\n",
    "5.\tConvert two lists into a dictionary using zip().\n",
    "6.\tCreate a dictionary from user input of 3 key-value pairs.\n",
    "7.\tWrite a program to count the frequency of each character in a string using a dictionary.\n",
    "8.\tGiven a dictionary of students and scores, find the student with the highest score.\n",
    "9.\tUse the set() method to remove duplicates from a list.\n",
    "10.\tFind the intersection of two sets in Python.\n",
    "11.\tWrite a program that takes a string and returns the number of vowels in it.\n",
    "12.\tReverse a list without using the reverse() method.\n",
    "13.\tWrite a Python program to check if a tuple contains a specific value.\n",
    "14.\tConvert a list of tuples into a dictionary.\n",
    "15.\tCreate a set from a string and display the unique characters.\n"
   ]
  },
  {
   "cell_type": "code",
   "execution_count": 1,
   "id": "f622d9bc-03ed-4238-95cc-03c9657fd2f4",
   "metadata": {},
   "outputs": [
    {
     "ename": "TypeError",
     "evalue": "unsupported operand type(s) for +: 'dict' and 'dict'",
     "output_type": "error",
     "traceback": [
      "\u001b[1;31m---------------------------------------------------------------------------\u001b[0m",
      "\u001b[1;31mTypeError\u001b[0m                                 Traceback (most recent call last)",
      "Cell \u001b[1;32mIn[1], line 5\u001b[0m\n\u001b[0;32m      1\u001b[0m dic1 \u001b[38;5;241m=\u001b[39m {\u001b[38;5;124m\"\u001b[39m\u001b[38;5;124mName\u001b[39m\u001b[38;5;124m\"\u001b[39m : \u001b[38;5;124m\"\u001b[39m\u001b[38;5;124mAfzaal\u001b[39m\u001b[38;5;124m\"\u001b[39m,\n\u001b[0;32m      2\u001b[0m          \u001b[38;5;124m\"\u001b[39m\u001b[38;5;124mAge\u001b[39m\u001b[38;5;124m\"\u001b[39m : \u001b[38;5;241m20\u001b[39m }\n\u001b[0;32m      3\u001b[0m dic2 \u001b[38;5;241m=\u001b[39m {\u001b[38;5;124m\"\u001b[39m\u001b[38;5;124mProgram\u001b[39m\u001b[38;5;124m\"\u001b[39m : \u001b[38;5;124m\"\u001b[39m\u001b[38;5;124mBSCS\u001b[39m\u001b[38;5;124m\"\u001b[39m,\n\u001b[0;32m      4\u001b[0m          \u001b[38;5;124m\"\u001b[39m\u001b[38;5;124mCousre\u001b[39m\u001b[38;5;124m\"\u001b[39m : \u001b[38;5;124m\"\u001b[39m\u001b[38;5;124mData_Science\u001b[39m\u001b[38;5;124m\"\u001b[39m }\n\u001b[1;32m----> 5\u001b[0m final \u001b[38;5;241m=\u001b[39m dic1 \u001b[38;5;241m+\u001b[39m dic2\n",
      "\u001b[1;31mTypeError\u001b[0m: unsupported operand type(s) for +: 'dict' and 'dict'"
     ]
    }
   ],
   "source": [
    "dic1 = {\"Name\" : \"Afzaal\",\n",
    "         \"Age\" : 20 }\n",
    "dic2 = {\"Program\" : \"BSCS\",\n",
    "         \"Cousre\" : \"Data_Science\" }\n",
    "final = dic1 + dic2"
   ]
  },
  {
   "cell_type": "code",
   "execution_count": null,
   "id": "f62fb53c-d221-4665-b0e1-d7d11035666f",
   "metadata": {},
   "outputs": [],
   "source": []
  }
 ],
 "metadata": {
  "kernelspec": {
   "display_name": "Python 3 (ipykernel)",
   "language": "python",
   "name": "python3"
  },
  "language_info": {
   "codemirror_mode": {
    "name": "ipython",
    "version": 3
   },
   "file_extension": ".py",
   "mimetype": "text/x-python",
   "name": "python",
   "nbconvert_exporter": "python",
   "pygments_lexer": "ipython3",
   "version": "3.12.7"
  }
 },
 "nbformat": 4,
 "nbformat_minor": 5
}
