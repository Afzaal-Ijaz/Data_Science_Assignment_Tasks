{
 "cells": [
  {
   "cell_type": "markdown",
   "id": "d0be55ce-47bc-400f-8e3a-39215241aaea",
   "metadata": {},
   "source": [
    "Q1. Write a program to check a number is positive , negative or zero."
   ]
  },
  {
   "cell_type": "code",
   "execution_count": 1,
   "id": "2f237f64-de83-42db-98bd-9bd1d839a53a",
   "metadata": {},
   "outputs": [
    {
     "name": "stdin",
     "output_type": "stream",
     "text": [
      "Enter a number:  30\n"
     ]
    },
    {
     "name": "stdout",
     "output_type": "stream",
     "text": [
      "Positive Number\n"
     ]
    }
   ],
   "source": [
    "num = int(input(\"Enter a number: \"))\n",
    "if (num > 0):\n",
    "  print(\"Positive Number\")\n",
    "elif (num == 0):\n",
    "  print(\"Negative Number\")\n",
    "else :\n",
    "  print(\"Zero\")\n"
   ]
  },
  {
   "cell_type": "markdown",
   "id": "e25ef107-adc5-4d82-bb61-774961b24d10",
   "metadata": {},
   "source": [
    "Q2. Ask the user to enter their age. "
   ]
  },
  {
   "cell_type": "code",
   "execution_count": 6,
   "id": "6a5507ec-ef3d-4fde-8e06-a35bed31a984",
   "metadata": {},
   "outputs": [
    {
     "name": "stdin",
     "output_type": "stream",
     "text": [
      "Enter Your age:  22\n"
     ]
    },
    {
     "name": "stdout",
     "output_type": "stream",
     "text": [
      "Adult\n"
     ]
    }
   ],
   "source": [
    "age = int(input(\"Enter Your age: \"))\n",
    "if (age < 18):\n",
    "  print(\"Minor\")\n",
    "elif (age >= 18 or age < 60):\n",
    "  print(\"Adult\")\n",
    "elif (age >= 60):\n",
    "  print(\"Senior\")"
   ]
  },
  {
   "cell_type": "markdown",
   "id": "d2f3b9ea-9dd9-475c-b2b9-16f5337a6136",
   "metadata": {},
   "source": [
    "Q3. Write a program to check whether a given number is divisible by 3 and 5 both."
   ]
  },
  {
   "cell_type": "code",
   "execution_count": 9,
   "id": "cc2c0a00-452e-4460-befa-c81187193ed2",
   "metadata": {},
   "outputs": [
    {
     "name": "stdin",
     "output_type": "stream",
     "text": [
      "Enter a Numer:  30\n"
     ]
    },
    {
     "name": "stdout",
     "output_type": "stream",
     "text": [
      "Number is divisible by 3 and 5\n"
     ]
    }
   ],
   "source": [
    "num = int(input(\"Enter a Numer: \"))\n",
    "if (num % 3 == 0 and num % 5 == 0):\n",
    "  print(\"Number is divisible by 3 and 5\")\n",
    "else:\n",
    "  print(\"Number is not divisible by 3 and 5\")\n"
   ]
  },
  {
   "cell_type": "markdown",
   "id": "23494604-c933-432a-b2f6-aef6ec3b59b9",
   "metadata": {},
   "source": [
    "Q4. Take a user's input for marks (0–100). Print their grade as:\n",
    "•\tA (≥90), B (80–89), C (70–79), D (60–69), F (<60)\n"
   ]
  },
  {
   "cell_type": "code",
   "execution_count": 10,
   "id": "778253c2-2c50-4741-a7d8-16ff358bc1a7",
   "metadata": {},
   "outputs": [
    {
     "name": "stdin",
     "output_type": "stream",
     "text": [
      "Enter Your Obtained marks: 88\n"
     ]
    },
    {
     "name": "stdout",
     "output_type": "stream",
     "text": [
      "Grade B\n"
     ]
    }
   ],
   "source": [
    "grade = int(input(\"Enter Your Obtained marks:\"))\n",
    "if (grade >= 90):\n",
    "  print(\"Grade A\")\n",
    "elif (grade >= 80):\n",
    "  print(\"Grade B\")\n",
    "elif (grade >= 70):\n",
    "  print(\"Grade C\")\n",
    "elif (grade >= 60):\n",
    "  print(\"Grade D\")\n",
    "elif ( grade < 60):\n",
    "  print(\"Grade F\")\n",
    "else:\n",
    "  print(\"Invalid marks\")"
   ]
  },
  {
   "cell_type": "markdown",
   "id": "f1d4f9c4-ef97-4628-a896-3c651034261e",
   "metadata": {},
   "source": [
    "Q5. Ask the user to enter a year. Print whether it is a leap year or not."
   ]
  },
  {
   "cell_type": "code",
   "execution_count": 11,
   "id": "a59426af-12de-461d-ae0c-b069c58dac3e",
   "metadata": {},
   "outputs": [
    {
     "name": "stdin",
     "output_type": "stream",
     "text": [
      "Enter Year:  2002\n"
     ]
    },
    {
     "name": "stdout",
     "output_type": "stream",
     "text": [
      "Not a Leap Year\n"
     ]
    }
   ],
   "source": [
    "year = int(input(\"Enter Year: \"))\n",
    "if (year % 4 == 0):\n",
    "  if (year % 100 != 0 or year % 400 == 0):\n",
    "    print(\"Leap Year\")\n",
    "  else:\n",
    "    print(\"Not a Leap Year\")\n",
    "else:\n",
    "  print(\"Not a Leap Year\")"
   ]
  },
  {
   "cell_type": "markdown",
   "id": "17afc7d1-39f1-47da-a5e9-327aaaf636a9",
   "metadata": {},
   "source": [
    "Q6. Write a program to check if a number is positive and even."
   ]
  },
  {
   "cell_type": "code",
   "execution_count": 12,
   "id": "4a532916-df97-477a-9980-c1ba6f70be3e",
   "metadata": {},
   "outputs": [
    {
     "name": "stdin",
     "output_type": "stream",
     "text": [
      "Enter a Number:  40\n"
     ]
    },
    {
     "name": "stdout",
     "output_type": "stream",
     "text": [
      "Number is positive and even\n"
     ]
    }
   ],
   "source": [
    "num = int(input(\"Enter a Number: \"))\n",
    "if (num % 2 == 0 and num > 0):\n",
    "  print(\"Number is positive and even\")\n",
    "elif (num % 2 == 0 and num < 0):\n",
    "  print(\"Number is even but not positive\")\n",
    "elif (num % 2 != 0 and num > 0):\n",
    "  print(\"Number is positive but not even\")\n",
    "else:\n",
    "  print(\"Number is neither positive nor even\")"
   ]
  },
  {
   "cell_type": "code",
   "execution_count": null,
   "id": "e16283ad-e5e9-40ed-9e30-464248e231fe",
   "metadata": {},
   "outputs": [],
   "source": [
    "Q7. Take three numbers as input and print the largest using nested if."
   ]
  },
  {
   "cell_type": "code",
   "execution_count": 13,
   "id": "699663a5-2833-445f-95fc-48d8b4c1b5b2",
   "metadata": {},
   "outputs": [
    {
     "name": "stdin",
     "output_type": "stream",
     "text": [
      "Enter 1 Numbers:  5\n",
      "Enter 2 Numbers:  10\n",
      "Enter 3 Numbers:  15\n"
     ]
    },
    {
     "name": "stdout",
     "output_type": "stream",
     "text": [
      "15 is Greater\n"
     ]
    }
   ],
   "source": [
    "num1 = int(input(\"Enter 1 Numbers: \"))\n",
    "num2 = int(input(\"Enter 2 Numbers: \"))\n",
    "num3 = int(input(\"Enter 3 Numbers: \"))\n",
    "if (num1 >= num2):\n",
    "  if (num1 >= num3):\n",
    "    print(f\"{num1} is Greater\")\n",
    "  else:\n",
    "    print(f\"{num3} is Greater\")\n",
    "else:\n",
    "  if (num2 >= num3):\n",
    "    print(f\"{num2} is Greater\")\n",
    "  else:\n",
    "    print(f\"{num3} is Greater\")"
   ]
  },
  {
   "cell_type": "markdown",
   "id": "eee30c30-714b-44ca-bd22-a5e142de9183",
   "metadata": {},
   "source": [
    "Q8. Ask the user to enter a password. If the password is correct, ask for a security code. If both are correct, print “Access Granted”; else, print appropriate error messages"
   ]
  },
  {
   "cell_type": "code",
   "execution_count": 14,
   "id": "86ddee1b-a2bd-408e-8c85-18aedcdf1081",
   "metadata": {},
   "outputs": [
    {
     "name": "stdin",
     "output_type": "stream",
     "text": [
      "Enter password:  data2025\n",
      "Enter the security code here:  222\n"
     ]
    },
    {
     "name": "stdout",
     "output_type": "stream",
     "text": [
      "Incorrect code\n"
     ]
    }
   ],
   "source": [
    "correct_password = \"data2025\"\n",
    "correct_code = 121\n",
    "\n",
    "password = input(\"Enter password: \")\n",
    "\n",
    "if (password == correct_password):\n",
    "  code = int(input(\"Enter the security code here: \"))\n",
    "\n",
    "  if (code == correct_code):\n",
    "    print(\"Access Granted\")\n",
    "  else:\n",
    "    print(\"Incorrect code\")\n",
    "else:\n",
    "  print(\"Incorrect password\")"
   ]
  },
  {
   "cell_type": "code",
   "execution_count": null,
   "id": "cd97b719-62cf-47c8-b170-5d7aa5755e9c",
   "metadata": {},
   "outputs": [],
   "source": [
    "Q9. Write a loop that prints numbers from 1 to 10, but stops if it reaches 6."
   ]
  },
  {
   "cell_type": "code",
   "execution_count": 15,
   "id": "334b409a-a951-40c4-a348-c54bcebf2c5d",
   "metadata": {},
   "outputs": [
    {
     "name": "stdout",
     "output_type": "stream",
     "text": [
      "Number:  1\n",
      "Number:  2\n",
      "Number:  3\n",
      "Number:  4\n",
      "Number:  5\n"
     ]
    }
   ],
   "source": [
    "for num in range(1, 11):\n",
    "  if num == 6:\n",
    "    break\n",
    "  print(\"Number: \", num)"
   ]
  },
  {
   "cell_type": "code",
   "execution_count": null,
   "id": "71143e9a-d981-4f35-991c-34117ce77056",
   "metadata": {},
   "outputs": [],
   "source": [
    "Q10. Write a loop that prints all numbers from 1 to 10, but skips printing 5."
   ]
  },
  {
   "cell_type": "code",
   "execution_count": 16,
   "id": "4420196c-6a59-48e5-981e-5ea8bd9cd607",
   "metadata": {},
   "outputs": [
    {
     "name": "stdout",
     "output_type": "stream",
     "text": [
      "1\n",
      "2\n",
      "3\n",
      "4\n",
      "6\n",
      "7\n",
      "8\n",
      "9\n",
      "10\n"
     ]
    }
   ],
   "source": [
    "for num in range(1, 11):\n",
    "  if (num == 5):\n",
    "    continue\n",
    "  print(num)"
   ]
  },
  {
   "cell_type": "code",
   "execution_count": null,
   "id": "80933cd1-44cc-43cf-b1ea-69877661c09d",
   "metadata": {},
   "outputs": [],
   "source": [
    "Q11. Use pass inside a loop that runs from 1 to 5. Explain its effect."
   ]
  },
  {
   "cell_type": "code",
   "execution_count": 17,
   "id": "f6d5372c-f19b-4c7c-beaa-5c4bb1ede2ca",
   "metadata": {},
   "outputs": [],
   "source": [
    "for i in range(1, 6):\n",
    "  pass"
   ]
  },
  {
   "cell_type": "markdown",
   "id": "3d5a8937-7d5c-4e8f-b44d-902d49bc0c43",
   "metadata": {},
   "source": [
    "Q12. Use a while loop that keeps asking the user to enter a number. If the user enters 0, break the loop.\n"
   ]
  },
  {
   "cell_type": "code",
   "execution_count": 18,
   "id": "b68566ba-8dc9-4e65-a0d5-2a465504d429",
   "metadata": {},
   "outputs": [
    {
     "name": "stdin",
     "output_type": "stream",
     "text": [
      "Enter a num:  2\n",
      "Enter a num:  3\n",
      "Enter a num:  0\n"
     ]
    }
   ],
   "source": [
    "while True:\n",
    "  num = int(input(\"Enter a num: \"))\n",
    "\n",
    "  if (num == 0):\n",
    "    break"
   ]
  },
  {
   "cell_type": "markdown",
   "id": "6de6a790-ed6c-4ba4-916c-6a58b63f663e",
   "metadata": {},
   "source": [
    "Q13. Iterate over a list of numbers. Print only the even numbers using continue."
   ]
  },
  {
   "cell_type": "code",
   "execution_count": 20,
   "id": "15d3251a-1516-4179-bfdd-96a7d813394b",
   "metadata": {},
   "outputs": [
    {
     "name": "stdout",
     "output_type": "stream",
     "text": [
      "10\n",
      "2\n",
      "198\n",
      "0\n"
     ]
    }
   ],
   "source": [
    "my_list = [10, 23, 2,198, 21, 0, 11]\n",
    "\n",
    "for i in my_list:\n",
    "  if i % 2 == 0:\n",
    "    print(i)"
   ]
  },
  {
   "cell_type": "markdown",
   "id": "d7a3a979-81d2-430d-acc2-4b5f4b0e5b8f",
   "metadata": {},
   "source": [
    "Q14. Create a loop that prints numbers from 1 to 10. If the number is a multiple of 4, skip it using continue."
   ]
  },
  {
   "cell_type": "code",
   "execution_count": 21,
   "id": "168a0b24-96e6-46b9-924e-790575e331b5",
   "metadata": {},
   "outputs": [
    {
     "name": "stdout",
     "output_type": "stream",
     "text": [
      "1\n",
      "2\n",
      "3\n",
      "5\n",
      "6\n",
      "7\n",
      "9\n",
      "10\n"
     ]
    }
   ],
   "source": [
    "for i in range(1, 11):\n",
    "  if i % 4 == 0:\n",
    "    continue\n",
    "  print(i)"
   ]
  },
  {
   "cell_type": "markdown",
   "id": "a7c2e95d-dc93-4430-9e26-51b4727e181d",
   "metadata": {},
   "source": [
    "Q15. Write a program using a loop that prints numbers from 1 to 20. When it reaches a number divisible by both 3 and 5, break the loop and print \"Found it!\"\n"
   ]
  },
  {
   "cell_type": "code",
   "execution_count": 22,
   "id": "115fc7cc-86dd-4cd3-ad1a-f5816de4faf0",
   "metadata": {},
   "outputs": [
    {
     "name": "stdout",
     "output_type": "stream",
     "text": [
      "1\n",
      "2\n",
      "3\n",
      "4\n",
      "5\n",
      "6\n",
      "7\n",
      "8\n",
      "9\n",
      "10\n",
      "11\n",
      "12\n",
      "13\n",
      "14\n",
      "Found\n"
     ]
    }
   ],
   "source": [
    "for i in range(1, 21):\n",
    "  if i % 3 == 0 and i % 5 == 0:\n",
    "    print(\"Found\")\n",
    "    break\n",
    "  print(i)"
   ]
  },
  {
   "cell_type": "code",
   "execution_count": null,
   "id": "d096830b-ed58-4ca2-8b71-e14f973cd4ba",
   "metadata": {},
   "outputs": [],
   "source": []
  }
 ],
 "metadata": {
  "kernelspec": {
   "display_name": "Python 3 (ipykernel)",
   "language": "python",
   "name": "python3"
  },
  "language_info": {
   "codemirror_mode": {
    "name": "ipython",
    "version": 3
   },
   "file_extension": ".py",
   "mimetype": "text/x-python",
   "name": "python",
   "nbconvert_exporter": "python",
   "pygments_lexer": "ipython3",
   "version": "3.12.7"
  }
 },
 "nbformat": 4,
 "nbformat_minor": 5
}
