{
 "cells": [
  {
   "cell_type": "code",
   "execution_count": 40,
   "id": "274d0232-dc9d-4525-b4f1-724aada24e71",
   "metadata": {},
   "outputs": [
    {
     "name": "stdout",
     "output_type": "stream",
     "text": [
      "5 number is maximum\n"
     ]
    }
   ],
   "source": [
    "#1. Write a function to return the maximum of three numbers.\n",
    "def maximum(a,b,c):\n",
    "    if (a > b)  and (a > c):\n",
    "        print(f'{a} number is maximum')\n",
    "    elif (b > a)  and (b > c):\n",
    "        print(f'{b} number is maximum')\n",
    "    else:\n",
    "        print(f' {c} is maximum')\n",
    "\n",
    "maximum(2,5,1)"
   ]
  },
  {
   "cell_type": "code",
   "execution_count": 39,
   "id": "fa143f71-6f8a-4df7-80a7-e61ced9fef01",
   "metadata": {},
   "outputs": [
    {
     "name": "stdout",
     "output_type": "stream",
     "text": [
      "120\n"
     ]
    }
   ],
   "source": [
    "#2. Create a function that returns the factorial of a number using recursion.\n",
    "def factorial(n):\n",
    "    if n == 0 or n == 1:\n",
    "        return 1\n",
    "    else:\n",
    "        return n * factorial(n - 1)\n",
    "ans = (factorial(5))\n",
    "print(ans)"
   ]
  },
  {
   "cell_type": "code",
   "execution_count": 38,
   "id": "5353e984-b2e4-4c0d-9449-2fb9b5d81a26",
   "metadata": {},
   "outputs": [
    {
     "name": "stdout",
     "output_type": "stream",
     "text": [
      "False\n"
     ]
    }
   ],
   "source": [
    "#3. Write a function that checks whether a number is prime.\n",
    "def prime_num(n):\n",
    "    if n <= 1:\n",
    "        return no\n",
    "    for i in range(2, int(n**0.5) + 1):  \n",
    "        if n % i == 0:\n",
    "            return False\n",
    "    return True \n",
    "print(prime_num(15))"
   ]
  },
  {
   "cell_type": "code",
   "execution_count": 37,
   "id": "0e10dd44-163e-4adb-b591-78877258490c",
   "metadata": {},
   "outputs": [
    {
     "name": "stdout",
     "output_type": "stream",
     "text": [
      "erohaL\n"
     ]
    }
   ],
   "source": [
    "#4. Define a function to reverse a given string.\n",
    "def reverse(s):\n",
    "    r = s[::-1]\n",
    "    return r\n",
    "\n",
    "res = reverse(\"Lahore\")\n",
    "print(res)"
   ]
  },
  {
   "cell_type": "code",
   "execution_count": 1,
   "id": "c780e6c2-50b4-4c10-97df-97e4129f16ed",
   "metadata": {},
   "outputs": [
    {
     "name": "stdout",
     "output_type": "stream",
     "text": [
      "15\n"
     ]
    }
   ],
   "source": [
    "#5. Write a function that takes a list and returns the sum of all elements.\n",
    "def sum_find(n):\n",
    "    s = sum(n)\n",
    "    return s\n",
    "print(sum_find([1,2,3,4,5]))"
   ]
  },
  {
   "cell_type": "code",
   "execution_count": 51,
   "id": "6b7142b5-7097-43d9-ab50-56929dbb5a1c",
   "metadata": {},
   "outputs": [
    {
     "name": "stdout",
     "output_type": "stream",
     "text": [
      "True\n"
     ]
    }
   ],
   "source": [
    "#6. Create a function to check if a string is a palindrome.\n",
    "def is_palindrome(s):\n",
    "    return s == s[::-1]\n",
    "print(is_palindrome(\"sos\"))"
   ]
  },
  {
   "cell_type": "code",
   "execution_count": 54,
   "id": "7ed49157-8e7a-4552-9eab-71b7bd40fa04",
   "metadata": {},
   "outputs": [
    {
     "name": "stdout",
     "output_type": "stream",
     "text": [
      " The area of the circle is 50.24\n"
     ]
    }
   ],
   "source": [
    "#7. Write a function to calculate the area of a circle given the radius.\n",
    "def area(radius):\n",
    "    a =3.14 * radius **2\n",
    "    return a\n",
    "res = area(4)\n",
    "print(f' The area of the circle is {res}')"
   ]
  },
  {
   "cell_type": "code",
   "execution_count": 55,
   "id": "21b99b31-d331-44e5-b055-03e88a3a2a6c",
   "metadata": {},
   "outputs": [
    {
     "name": "stdout",
     "output_type": "stream",
     "text": [
      "0 1 1 2 3 5 8 13 21 None\n"
     ]
    }
   ],
   "source": [
    "#8. Create a function to return the Fibonacci sequence up to `n` terms.\n",
    "def fibonacci(n):\n",
    "    a = 0\n",
    "    b = 1\n",
    "    for i in range(n):\n",
    "        print(a, end=' ')\n",
    "        c = a + b\n",
    "        a = b\n",
    "        b =c\n",
    "print(fibonacci(9))"
   ]
  },
  {
   "cell_type": "code",
   "execution_count": 74,
   "id": "d325ac72-666b-4c44-bd8b-3ffb745a7840",
   "metadata": {},
   "outputs": [
    {
     "name": "stdout",
     "output_type": "stream",
     "text": [
      "[2, 4]\n"
     ]
    }
   ],
   "source": [
    "#9. Write a function that takes a list of numbers and returns only even numbers.\n",
    "def check(l):\n",
    "    even = []\n",
    "    for i in numbers:\n",
    "        if i % 2 == 0:\n",
    "            even.append(i)\n",
    "    return even\n",
    "print(get_even_numbers([1, 2, 3, 4, 5]))"
   ]
  },
  {
   "cell_type": "code",
   "execution_count": 76,
   "id": "726d2384-584a-4f9b-8b5d-29ac97efe5a9",
   "metadata": {},
   "outputs": [
    {
     "name": "stdout",
     "output_type": "stream",
     "text": [
      "3\n"
     ]
    }
   ],
   "source": [
    "#10. Define a function to count the number of vowels in a given string.\n",
    "def count_vowels(s):\n",
    "    vowels = \"aeiouAEIOU\"\n",
    "    count = 0\n",
    "    for char in s:\n",
    "        if char in vowels:\n",
    "            count += 1\n",
    "    return count\n",
    "print(count_vowels(\"Pakistan\"))"
   ]
  },
  {
   "cell_type": "code",
   "execution_count": 9,
   "id": "b19dd062-50da-4f3e-b4f9-0474be2b2d01",
   "metadata": {},
   "outputs": [
    {
     "name": "stdout",
     "output_type": "stream",
     "text": [
      "6\n"
     ]
    }
   ],
   "source": [
    "#11. Write a function to find the GCD (Greatest Common Divisor) of two numbers.\n",
    "def find_gcd(a, b):\n",
    "    while b != 0:\n",
    "        a, b = b, a % b\n",
    "    return a\n",
    "print(find_gcd(48, 18))  \n"
   ]
  },
  {
   "cell_type": "code",
   "execution_count": 1,
   "id": "75b28936-59e4-4bea-8954-24dea5ba7765",
   "metadata": {},
   "outputs": [
    {
     "name": "stdout",
     "output_type": "stream",
     "text": [
      "Temperature in Fahrenheit is 104.0\n"
     ]
    }
   ],
   "source": [
    "#12. Create a function to convert Celsius to Fahrenheit.\n",
    "def temp_convert(celsius):\n",
    "    fahrenheit = 9/5 * celsius + 32\n",
    "    print (f'Temperature in Fahrenheit is {fahrenheit}')\n",
    "\n",
    "temp_convert(40)"
   ]
  },
  {
   "cell_type": "code",
   "execution_count": 22,
   "id": "d0a3787a-d2a3-4c9e-9abf-005681f0525b",
   "metadata": {},
   "outputs": [
    {
     "name": "stdout",
     "output_type": "stream",
     "text": [
      "Science\n"
     ]
    }
   ],
   "source": [
    "#13. Define a function that accepts a sentence and returns the word with the maximum length.\n",
    "def max_length(s):\n",
    "    words = s.split()\n",
    "    return max(words , key = len)\n",
    "\n",
    "print(max_length(\"Data Science is easy or not?\"))"
   ]
  },
  {
   "cell_type": "code",
   "execution_count": 7,
   "id": "c3c771ef-742c-4b03-b26a-516065ad63a3",
   "metadata": {},
   "outputs": [
    {
     "name": "stdout",
     "output_type": "stream",
     "text": [
      "True\n"
     ]
    }
   ],
   "source": [
    "#14. Write a function that accepts a number and returns whether it is an Armstrong number.\n",
    "def is_armstrong(num):\n",
    "    digits = str(num)\n",
    "    num_digit = len(digits)\n",
    "    summ = 0\n",
    "    for digit in digits:\n",
    "        summ += int(digit) ** num_digit\n",
    "    return summ == num\n",
    "print(is_armstrong(153))"
   ]
  },
  {
   "cell_type": "code",
   "execution_count": 3,
   "id": "80fa6946-0327-4ed2-9a91-bf4f902bc9ff",
   "metadata": {},
   "outputs": [
    {
     "name": "stdout",
     "output_type": "stream",
     "text": [
      "True\n"
     ]
    }
   ],
   "source": [
    "#15. Create a function to check if two strings are anagrams.\n",
    "def is_anagram(str1, str2):\n",
    "    return sorted(str1) == sorted(str2)\n",
    "    \n",
    "print(is_anagram(\"listen\", \"silent\"))"
   ]
  },
  {
   "cell_type": "code",
   "execution_count": null,
   "id": "6d1d75b8-28da-4088-8e8a-9bca8eefccf8",
   "metadata": {},
   "outputs": [],
   "source": []
  }
 ],
 "metadata": {
  "kernelspec": {
   "display_name": "Python 3 (ipykernel)",
   "language": "python",
   "name": "python3"
  },
  "language_info": {
   "codemirror_mode": {
    "name": "ipython",
    "version": 3
   },
   "file_extension": ".py",
   "mimetype": "text/x-python",
   "name": "python",
   "nbconvert_exporter": "python",
   "pygments_lexer": "ipython3",
   "version": "3.12.7"
  }
 },
 "nbformat": 4,
 "nbformat_minor": 5
}
