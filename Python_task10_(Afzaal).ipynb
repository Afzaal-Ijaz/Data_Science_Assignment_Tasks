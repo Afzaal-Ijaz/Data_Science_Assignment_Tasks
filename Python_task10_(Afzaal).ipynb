{
 "cells": [
  {
   "cell_type": "code",
   "execution_count": 5,
   "id": "6811dd8c-2c8c-491b-9f50-edadf1768a17",
   "metadata": {},
   "outputs": [
    {
     "name": "stdout",
     "output_type": "stream",
     "text": [
      "File created and text written successfully.\n"
     ]
    }
   ],
   "source": [
    "#1. Write a Python program to create a new file and write some text into it.\n",
    "with open(\"example.txt\", \"w\") as file:\n",
    "    file.write(\"Python is such a easy language!\")\n",
    "\n",
    "print(\"File created and text written successfully.\")"
   ]
  },
  {
   "cell_type": "code",
   "execution_count": 6,
   "id": "66035d49-fc87-4296-8df5-9dcff4178717",
   "metadata": {},
   "outputs": [
    {
     "name": "stdout",
     "output_type": "stream",
     "text": [
      "Python is such a easy language!\n"
     ]
    }
   ],
   "source": [
    "#2. Read the contents of a text file and display them.\n",
    "with open(\"example.txt\", \"r\") as f:\n",
    "    content = f.read()\n",
    "    print(content)"
   ]
  },
  {
   "cell_type": "code",
   "execution_count": 7,
   "id": "afea851e-b561-449a-8b0e-070654d498b1",
   "metadata": {},
   "outputs": [],
   "source": [
    "#3. Append a line to an existing file.\n",
    "with open(\"example.txt\", \"a\") as f:\n",
    "    f.write(\"\\nWhat do you think.\")"
   ]
  },
  {
   "cell_type": "code",
   "execution_count": 8,
   "id": "4e068874-2493-45e0-8cca-47e895b87f8f",
   "metadata": {},
   "outputs": [
    {
     "name": "stdout",
     "output_type": "stream",
     "text": [
      "Word count: 10\n"
     ]
    }
   ],
   "source": [
    "#4. Count the number of words in a text file.\n",
    "with open(\"example.txt\", \"r\") as f:\n",
    "    words = f.read().split()\n",
    "    print(\"Word count:\", len(words))"
   ]
  },
  {
   "cell_type": "code",
   "execution_count": 23,
   "id": "0be57f00-cec6-4aed-bdac-53f647d5d15c",
   "metadata": {},
   "outputs": [
    {
     "name": "stdout",
     "output_type": "stream",
     "text": [
      "Number of lines in file: 2\n"
     ]
    }
   ],
   "source": [
    "#5. Write a program that reads a file and counts the number of lines in it.\n",
    "with open(\"example.txt\", \"r\") as f:\n",
    "   count = 0\n",
    "   for i in f:\n",
    "       count += 1\n",
    "print(\"Number of lines in file:\",count)\n"
   ]
  },
  {
   "cell_type": "code",
   "execution_count": 24,
   "id": "e411bb33-1dbc-463e-9db0-3e3792f62a7c",
   "metadata": {},
   "outputs": [],
   "source": [
    "#6. Write a program to copy the contents of one file to another.\n",
    "with open('example.txt', 'r') as f1:\n",
    "  content = f1.read()\n",
    "\n",
    "with open('example2.txt', 'w') as f2:\n",
    "  f2.write(content)\n"
   ]
  },
  {
   "cell_type": "code",
   "execution_count": 25,
   "id": "0d1bb8ed-c9e1-4873-940f-377db190bf12",
   "metadata": {},
   "outputs": [
    {
     "name": "stdout",
     "output_type": "stream",
     "text": [
      "Python is such a easy language!\n",
      "\n",
      "What do you think.\n"
     ]
    }
   ],
   "source": [
    "#7. Write a program to read a file line by line and print each line.\n",
    "with open('example.txt', 'r') as f:\n",
    "  line = f.readlines()\n",
    "  for i in line:\n",
    "   print(i)"
   ]
  },
  {
   "cell_type": "code",
   "execution_count": 26,
   "id": "39160073-6491-41bb-9775-1ef7ab4ee702",
   "metadata": {},
   "outputs": [
    {
     "name": "stdout",
     "output_type": "stream",
     "text": [
      ".kniht uoy od tahW\n",
      "!egaugnal ysae a hcus si nohtyP\n"
     ]
    }
   ],
   "source": [
    "#8. Write a Python program to reverse the contents of a file.\n",
    "with open('example.txt', 'r') as file:\n",
    "  string = file.read()\n",
    "  print(string[::-1])\n"
   ]
  },
  {
   "cell_type": "code",
   "execution_count": null,
   "id": "d1e24926-7ab9-4723-930a-9959cfd83f0b",
   "metadata": {},
   "outputs": [],
   "source": [
    "#9 Write Python program to red CSV file\n",
    "import csv\n",
    "\n",
    "with open('data.csv', mode='r') as file:\n",
    "    reader = csv.reader(file)\n",
    "    for row in reader:\n",
    "        print(row)\n"
   ]
  },
  {
   "cell_type": "code",
   "execution_count": 29,
   "id": "f4dba6f7-b4da-4f39-9be5-27b1ee6267fa",
   "metadata": {},
   "outputs": [],
   "source": [
    "#10. Write a program to merge the contents of two files into a third file.\n",
    "with open('example.txt', 'r') as f1:\n",
    "  data1 = f1.read()\n",
    "\n",
    "with open('example2.txt', 'r') as f2:\n",
    "  data2 = f2.read()\n",
    "\n",
    "with open('example3.txt', 'w') as f3:\n",
    "  f3.write(data1 + \"\\n\" + data2)"
   ]
  },
  {
   "cell_type": "code",
   "execution_count": 32,
   "id": "c1ec301b-98ed-48d5-93d5-bf1f399c1409",
   "metadata": {},
   "outputs": [],
   "source": [
    "#11. Create a program that removes all blank lines from a text file.\n",
    "with open('example.txt', 'r') as infile:\n",
    "    lines = infile.readlines()\n",
    "\n",
    "non_blank_lines = [line for line in lines if line.strip() != \"\"]\n",
    "\n",
    "with open('output.txt', 'w') as outfile:\n",
    "    outfile.writelines(non_blank_lines)\n"
   ]
  },
  {
   "cell_type": "code",
   "execution_count": 33,
   "id": "5b69b574-381b-4ffb-bedd-7d4a899a87a4",
   "metadata": {},
   "outputs": [],
   "source": [
    "#12. Write a program to find and replace a word in a text file.\n",
    "with open('example.txt', 'r') as f:\n",
    "  content = f.read()\n",
    "\n",
    "update = content.replace(\"easy\", \"hard\")\n",
    "\n",
    "with open('example.txt', 'w') as f2:\n",
    "  f2.write(update)"
   ]
  },
  {
   "cell_type": "code",
   "execution_count": null,
   "id": "5951e300-8c50-4c84-bac7-abce486bce22",
   "metadata": {},
   "outputs": [],
   "source": []
  }
 ],
 "metadata": {
  "kernelspec": {
   "display_name": "Python 3 (ipykernel)",
   "language": "python",
   "name": "python3"
  },
  "language_info": {
   "codemirror_mode": {
    "name": "ipython",
    "version": 3
   },
   "file_extension": ".py",
   "mimetype": "text/x-python",
   "name": "python",
   "nbconvert_exporter": "python",
   "pygments_lexer": "ipython3",
   "version": "3.12.7"
  }
 },
 "nbformat": 4,
 "nbformat_minor": 5
}
